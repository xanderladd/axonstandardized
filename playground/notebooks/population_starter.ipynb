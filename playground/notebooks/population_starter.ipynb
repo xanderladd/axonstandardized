{
 "cells": [
  {
   "cell_type": "code",
   "execution_count": 7,
   "id": "bf6494a6-0de1-4cee-bc37-486bcd87c6fc",
   "metadata": {},
   "outputs": [],
   "source": [
    "import numpy as np\n",
    "import pandas as pd\n",
    "import pickle\n",
    "import bluepyopt"
   ]
  },
  {
   "cell_type": "code",
   "execution_count": 8,
   "id": "f5e5e7d8-d69e-4afb-880a-bdb5cc1240a9",
   "metadata": {},
   "outputs": [],
   "source": [
    "prev_starting_pop = np.load('/pscratch/sd/z/zladd/axonstandardized/playground/runs/compare_allen_full_04_04_22_487664663_psv/genetic_alg/neuron_genetic_alg_MPI/extra_logs/pop_53.npy')\n",
    "params_csv = pd.read_csv('/pscratch/sd/z/zladd/axonstandardized/playground/runs/compare_allen_full_05_03_22_487664663/genetic_alg/params/params_compare_allen_full.csv')\n",
    "prev_cp_path = '/pscratch/sd/z/zladd/axonstandardized/playground/runs/compare_allen_full_04_04_22_487664663_psv/genetic_alg/neuron_genetic_alg_MPI/may12'\n",
    "with open(prev_cp_path,'rb') as f:\n",
    "    prev_cp = pickle.load(f)"
   ]
  },
  {
   "cell_type": "code",
   "execution_count": 9,
   "id": "ad5d54fa-1319-43b7-be15-97b803ceca47",
   "metadata": {},
   "outputs": [
    {
     "data": {
      "text/plain": [
       "bluepyopt.deapext.optimisations.WeightedSumFitness((16.66678590092525,))"
      ]
     },
     "execution_count": 9,
     "metadata": {},
     "output_type": "execute_result"
    }
   ],
   "source": [
    "prev_cp['population'][0].fitness"
   ]
  },
  {
   "cell_type": "code",
   "execution_count": 10,
   "id": "90157763-023d-4128-b4f4-d613708634b8",
   "metadata": {},
   "outputs": [],
   "source": [
    "prev_opt_ind = [0,1,5,6,9,13,14,15]\n",
    "new_opt_ind = np.setdiff1d(np.arange(16), prev_opt_ind)\n",
    "base_params = params_csv['Base value'].values\n",
    "starting_pop = np.empty((prev_starting_pop.shape[0], 16))\n"
   ]
  },
  {
   "cell_type": "code",
   "execution_count": 11,
   "id": "35c84ebd-57a4-414d-857a-8f6f15ba7b9d",
   "metadata": {},
   "outputs": [],
   "source": [
    "kyung_model = [2.2059926405591647e-06,\n",
    " 66.56,\n",
    " 4.038344455601,\n",
    " 3.1263250612879574,\n",
    " 0.004714785353428931,\n",
    " 2.851528811650826,\n",
    " 5.1781678079476325,\n",
    " 0.10964528535035173,\n",
    " 0.0005345695323248943,\n",
    " 0.15786557309792512,\n",
    " 0.0016590197652445098,\n",
    " 3.7929209114140967,\n",
    " 0.003648935505529324,\n",
    " 0.0002609500775088814,\n",
    " 1,\n",
    " 2]"
   ]
  },
  {
   "cell_type": "code",
   "execution_count": 16,
   "id": "84f7452d-5e79-4a80-ba4b-4b7c514c1462",
   "metadata": {},
   "outputs": [
    {
     "data": {
      "text/plain": [
       "0.0005345695323248943"
      ]
     },
     "execution_count": 16,
     "metadata": {},
     "output_type": "execute_result"
    }
   ],
   "source": [
    "kyung_model[8]"
   ]
  },
  {
   "cell_type": "code",
   "execution_count": 12,
   "id": "dcbe84bb-41aa-4a1a-8d56-3223310e1261",
   "metadata": {},
   "outputs": [],
   "source": [
    "starting_pop[0] = kyung_model#base_params"
   ]
  },
  {
   "cell_type": "code",
   "execution_count": 13,
   "id": "e3e993d2-2c2a-46b3-8699-d4ff8c332f34",
   "metadata": {},
   "outputs": [],
   "source": [
    "starting_pop[1] = kyung_model"
   ]
  },
  {
   "cell_type": "code",
   "execution_count": 14,
   "id": "c646328c-7164-4759-8e12-8072d63bdacd",
   "metadata": {},
   "outputs": [],
   "source": [
    "# starting_pop[:,prev_opt_ind] = prev_starting_pop\n",
    "# starting_pop[:,new_opt_ind] = base_params[new_opt_ind]\n",
    "# starting_pop[np.arange(prev_starting_pop.shape[0])[::10], :] = base_params "
   ]
  },
  {
   "cell_type": "code",
   "execution_count": null,
   "id": "4316c024-bf6d-4322-9786-9a776e2064a0",
   "metadata": {},
   "outputs": [],
   "source": []
  },
  {
   "cell_type": "code",
   "execution_count": 15,
   "id": "045acbc5-24c1-4b1d-bcb6-d3205c9afec5",
   "metadata": {},
   "outputs": [],
   "source": [
    "data = {}\n",
    "\n",
    "\n",
    "data['population'] = [bluepyopt.deapext.optimisations.WSListIndividual(elem, obj_size=1)\n",
    "                        for elem in starting_pop[:2]]\n",
    "\n",
    "# for new_elem, old_elem in zip(data['population'], prev_cp['population']):\n",
    "#     new_elem.fitness = old_elem.fitness\n",
    "    \n",
    "with open('/pscratch/sd/z/zladd/axonstandardized_data/populations/starting_pop.pkl','wb') as f:\n",
    "    pickle.dump(data, f)"
   ]
  },
  {
   "cell_type": "code",
   "execution_count": null,
   "id": "45e8fb13-9b88-4174-985c-5519d7a7678c",
   "metadata": {},
   "outputs": [],
   "source": []
  }
 ],
 "metadata": {
  "kernelspec": {
   "display_name": "neuron_env",
   "language": "python",
   "name": "neuron_env"
  },
  "language_info": {
   "codemirror_mode": {
    "name": "ipython",
    "version": 3
   },
   "file_extension": ".py",
   "mimetype": "text/x-python",
   "name": "python",
   "nbconvert_exporter": "python",
   "pygments_lexer": "ipython3",
   "version": "3.9.7"
  }
 },
 "nbformat": 4,
 "nbformat_minor": 5
}
