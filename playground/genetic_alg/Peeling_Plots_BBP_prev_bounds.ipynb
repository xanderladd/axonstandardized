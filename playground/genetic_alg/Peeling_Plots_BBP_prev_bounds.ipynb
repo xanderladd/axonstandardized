{
 "cells": [
  {
   "cell_type": "code",
   "execution_count": null,
   "metadata": {},
   "outputs": [],
   "source": [
    "import sys\n",
    "sys.path.insert(0, '../../')\n",
    "\n",
    "import matplotlib as mpl\n",
    "import matplotlib.pyplot as plt\n",
    "import seaborn as sns\n",
    "import pandas as pd\n",
    "import numpy as np\n",
    "from scipy import stats\n",
    "import h5py\n",
    "import pickle\n",
    "import bluepyopt\n",
    "import os\n",
    "os.chdir(\"neuron_genetic_alg/neuron_files/bbp/\")\n",
    "from neuron import h\n",
    "os.chdir(\"../../../\")\n",
    "import plot_helper as ph"
   ]
  },
  {
   "cell_type": "code",
   "execution_count": 2,
   "metadata": {},
   "outputs": [],
   "source": [
    "test_stim1_name = 'he_1_1_18'\n",
    "test_stim2_name = 'chirp_f_0.12_to_0_a_3_to_3'\n",
    "stims = h5py.File('./stims/stims_full.hdf5', 'r')\n",
    "neg_stims = h5py.File('./stims/neg_stims.hdf5', 'r')\n",
    "test_stim1 = stims[test_stim1_name][:]\n",
    "test_stim2 = stims[test_stim2_name][:]"
   ]
  },
  {
   "cell_type": "markdown",
   "metadata": {},
   "source": [
    "## Passive"
   ]
  },
  {
   "cell_type": "markdown",
   "metadata": {},
   "source": [
    "### Score function"
   ]
  },
  {
   "cell_type": "code",
   "execution_count": 3,
   "metadata": {},
   "outputs": [
    {
     "name": "stderr",
     "output_type": "stream",
     "text": [
      "/global/cscratch1/sd/zladd/axonstandardized/playground/runs/bbp_passive_01_06_2021/genetic_alg/plot_helper.py:199: H5pyDeprecationWarning: The default file mode will change to 'r' (read-only) in h5py 3.0. To suppress this warning, pass the mode you need to h5py.File(), or set the global default h5.get_config().default_file_mode, or set the environment variable H5PY_DEFAULT_READONLY=1. Available modes are: 'r', 'r+', 'w', 'w-'/'x', 'a'. See the docs for details.\n",
      "  opt_result = h5py.File(opt_path)\n"
     ]
    },
    {
     "name": "stdout",
     "output_type": "stream",
     "text": [
      "<KeysViewHDF5 ['opt_stim_name_list', 'opt_weight_list', 'ordered_score_function_list']>\n"
     ]
    },
    {
     "name": "stderr",
     "output_type": "stream",
     "text": [
      "findfont: Font family ['sans-serif'] not found. Falling back to DejaVu Sans.\n",
      "findfont: Font family ['sans-serif'] not found. Falling back to DejaVu Sans.\n"
     ]
    },
    {
     "name": "stdout",
     "output_type": "stream",
     "text": [
      "Stims used to train:\n",
      "chirp_f_0.2_to_0_a_9_to_9\n",
      "chirp_f_0.2_to_0_a_3_to_9\n",
      "chirp_f_0.2_to_0_a_3_to_6\n",
      "chirp_f_0.18_to_0_a_3_to_3\n",
      "chirp_f_0.16_to_0_a_3_to_6\n",
      "chirp_f_0.16_to_0_a_9_to_3\n",
      "chirp_f_0.2_to_0_a_6_to_3\n",
      "chirp_f_0.12_to_0_a_3_to_6\n",
      "chirp_f_0.16_to_0_a_6_to_6\n",
      "chirp_f_0.16_to_0_a_3_to_9\n",
      "chirp_f_0_to_0.1_a_3_to_9\n",
      "chirp_f_0.16_to_0_a_9_to_9\n",
      "chirp_f_0.12_to_0_a_9_to_3\n",
      "chirp_f_0.14_to_0_a_6_to_6\n",
      "chirp_f_0_to_0.1_a_3_to_6\n",
      "chirp_f_0.16_to_0_a_6_to_3\n",
      "he_3_15_13\n",
      "he_3_15_5\n",
      "he_3_19_20\n",
      "he_1_21_19\n"
     ]
    },
    {
     "data": {
      "image/png": "[encoded data removed]",
      "text/plain": [
       "<Figure size 240.945x141.732 with 1 Axes>"
      ]
     },
     "metadata": {
      "needs_background": "light"
     },
     "output_type": "display_data"
    }
   ],
   "source": [
    "bbp_passive_opt_path = './objectives/multi_stim_without_sensitivity_bbp_passive_01_13_2021_stims.hdf5'\n",
    "bbp_passive_score_path = '../scores/'\n",
    "bbp_passive_plot_path = './plots_prev_bounds/scores_bbp_passive'\n",
    "ph.plot_comb_scores(bbp_passive_opt_path, bbp_passive_score_path, 'Peeling BBP Passive', bbp_passive_plot_path)\n",
    "print('Stims used to train:')\n",
    "train_stim_names_passive = h5py.File(bbp_passive_opt_path, 'r')['opt_stim_name_list'][:]\n",
    "for e in train_stim_names_passive:\n",
    "    print(e.decode('ascii'))\n"
   ]
  },
  {
   "cell_type": "markdown",
   "metadata": {},
   "source": [
    "### Genetic algorithm result"
   ]
  },
  {
   "cell_type": "code",
   "execution_count": 4,
   "metadata": {},
   "outputs": [
    {
     "name": "stderr",
     "output_type": "stream",
     "text": [
      "findfont: Font family ['sans-serif'] not found. Falling back to DejaVu Sans.\n"
     ]
    },
    {
     "name": "stdout",
     "output_type": "stream",
     "text": [
      "[0.378493312165136, 0.9239178104863541, 0.24393301213014704]\n"
     ]
    },
    {
     "data": {
      "image/png": "[encoded data removed]",
      "text/plain": [
       "<Figure size 340.157x198.425 with 2 Axes>"
      ]
     },
     "metadata": {
      "needs_background": "light"
     },
     "output_type": "display_data"
    }
   ],
   "source": [
    "peeling_step = 'passive'\n",
    "GA_result_path = './neuron_genetic_alg/best_indv_logs/best_indvs_gen_16.pkl'\n",
    "#GA_result_path = './GPUbest_indvs_gen_13.pkl'\n",
    "\n",
    "params_path = './neuron_genetic_alg/params/params_bbp_'+peeling_step+'.hdf5'\n",
    "base_passive = h5py.File(params_path, 'r')['orig_'+peeling_step][0]\n",
    "peeling_ind_passive_bbp = [3, 20, 23] # bbp Passive\n",
    "base = [base_passive[i] for i in peeling_ind_passive_bbp]\n",
    "lbs = [0.01*p for p in base]\n",
    "ubs = [100*p for p in base]\n",
    "params_bbp_passive = [ph.params_bbp[i] for i in peeling_ind_passive_bbp]\n",
    "normalized_indvs_passive_bbp, best_indvs_passive_bbp = ph.read_and_normalize_with_neg(GA_result_path, base, lbs, ubs)\n",
    "print(normalized_indvs_passive_bbp[-1])\n",
    "file_path_to_save = './plots_prev_bounds/GA_bbp_passive'\n",
    "ph.final_indv_plot_by_section(params_bbp_passive, normalized_indvs_passive_bbp[-1], 'For Passive Parameters', file_path_to_save, 0.01, 6,dend_inds= [0],soma_inds=[1,2],axon_inds=None,xlim=[0,0.01])\n",
    "for i in range(len(base)):\n",
    "    ph.normalized_indvs_bbp_overall[peeling_ind_passive_bbp[i]] = normalized_indvs_passive_bbp[-1][i]\n",
    "    ph.best_indvs_bbp_overall[peeling_ind_passive_bbp[i]] = best_indvs_passive_bbp[-1][i]\n",
    "    "
   ]
  },
  {
   "cell_type": "code",
   "execution_count": 5,
   "metadata": {},
   "outputs": [
    {
     "ename": "OSError",
     "evalue": "Unable to open file (unable to open file: name = './params/params_bbp_passive.hdf5', errno = 2, error message = 'No such file or directory', flags = 0, o_flags = 0)",
     "output_type": "error",
     "traceback": [
      "\u001b[0;31m---------------------------------------------------------------------------\u001b[0m",
      "\u001b[0;31mOSError\u001b[0m                                   Traceback (most recent call last)",
      "\u001b[0;32m<ipython-input-5-0d8aba037883>\u001b[0m in \u001b[0;36m<module>\u001b[0;34m()\u001b[0m\n\u001b[1;32m      2\u001b[0m \u001b[0mGA_result_path\u001b[0m \u001b[0;34m=\u001b[0m \u001b[0;34m'./GA_results/prev_params_20_percent_bound/best_indv_bbp_'\u001b[0m\u001b[0;34m+\u001b[0m\u001b[0mpeeling_step\u001b[0m\u001b[0;34m+\u001b[0m\u001b[0;34m'.pkl'\u001b[0m\u001b[0;34m\u001b[0m\u001b[0;34m\u001b[0m\u001b[0m\n\u001b[1;32m      3\u001b[0m \u001b[0mparams_path\u001b[0m \u001b[0;34m=\u001b[0m \u001b[0;34m'./params/params_bbp_'\u001b[0m\u001b[0;34m+\u001b[0m\u001b[0mpeeling_step\u001b[0m\u001b[0;34m+\u001b[0m\u001b[0;34m'.hdf5'\u001b[0m\u001b[0;34m\u001b[0m\u001b[0;34m\u001b[0m\u001b[0m\n\u001b[0;32m----> 4\u001b[0;31m \u001b[0mbase_passive\u001b[0m \u001b[0;34m=\u001b[0m \u001b[0mh5py\u001b[0m\u001b[0;34m.\u001b[0m\u001b[0mFile\u001b[0m\u001b[0;34m(\u001b[0m\u001b[0mparams_path\u001b[0m\u001b[0;34m,\u001b[0m \u001b[0;34m'r'\u001b[0m\u001b[0;34m)\u001b[0m\u001b[0;34m[\u001b[0m\u001b[0;34m'orig_'\u001b[0m\u001b[0;34m+\u001b[0m\u001b[0mpeeling_step\u001b[0m\u001b[0;34m]\u001b[0m\u001b[0;34m[\u001b[0m\u001b[0;36m0\u001b[0m\u001b[0;34m]\u001b[0m\u001b[0;34m\u001b[0m\u001b[0;34m\u001b[0m\u001b[0m\n\u001b[0m\u001b[1;32m      5\u001b[0m \u001b[0mpeeling_ind_passive_bbp\u001b[0m \u001b[0;34m=\u001b[0m \u001b[0;34m[\u001b[0m\u001b[0;36m3\u001b[0m\u001b[0;34m,\u001b[0m \u001b[0;36m20\u001b[0m\u001b[0;34m,\u001b[0m \u001b[0;36m23\u001b[0m\u001b[0;34m]\u001b[0m \u001b[0;31m# bbp Passive\u001b[0m\u001b[0;34m\u001b[0m\u001b[0;34m\u001b[0m\u001b[0m\n\u001b[1;32m      6\u001b[0m \u001b[0mbase\u001b[0m \u001b[0;34m=\u001b[0m \u001b[0;34m[\u001b[0m\u001b[0mbase_passive\u001b[0m\u001b[0;34m[\u001b[0m\u001b[0mi\u001b[0m\u001b[0;34m]\u001b[0m \u001b[0;32mfor\u001b[0m \u001b[0mi\u001b[0m \u001b[0;32min\u001b[0m \u001b[0mpeeling_ind_passive_bbp\u001b[0m\u001b[0;34m]\u001b[0m\u001b[0;34m\u001b[0m\u001b[0;34m\u001b[0m\u001b[0m\n",
      "\u001b[0;32m/global/homes/z/zladd/.conda/envs/.env/lib/python3.6/site-packages/h5py/_hl/files.py\u001b[0m in \u001b[0;36m__init__\u001b[0;34m(self, name, mode, driver, libver, userblock_size, swmr, rdcc_nslots, rdcc_nbytes, rdcc_w0, track_order, **kwds)\u001b[0m\n\u001b[1;32m    406\u001b[0m                 fid = make_fid(name, mode, userblock_size,\n\u001b[1;32m    407\u001b[0m                                \u001b[0mfapl\u001b[0m\u001b[0;34m,\u001b[0m \u001b[0mfcpl\u001b[0m\u001b[0;34m=\u001b[0m\u001b[0mmake_fcpl\u001b[0m\u001b[0;34m(\u001b[0m\u001b[0mtrack_order\u001b[0m\u001b[0;34m=\u001b[0m\u001b[0mtrack_order\u001b[0m\u001b[0;34m)\u001b[0m\u001b[0;34m,\u001b[0m\u001b[0;34m\u001b[0m\u001b[0;34m\u001b[0m\u001b[0m\n\u001b[0;32m--> 408\u001b[0;31m                                swmr=swmr)\n\u001b[0m\u001b[1;32m    409\u001b[0m \u001b[0;34m\u001b[0m\u001b[0m\n\u001b[1;32m    410\u001b[0m             \u001b[0;32mif\u001b[0m \u001b[0misinstance\u001b[0m\u001b[0;34m(\u001b[0m\u001b[0mlibver\u001b[0m\u001b[0;34m,\u001b[0m \u001b[0mtuple\u001b[0m\u001b[0;34m)\u001b[0m\u001b[0;34m:\u001b[0m\u001b[0;34m\u001b[0m\u001b[0;34m\u001b[0m\u001b[0m\n",
      "\u001b[0;32m/global/homes/z/zladd/.conda/envs/.env/lib/python3.6/site-packages/h5py/_hl/files.py\u001b[0m in \u001b[0;36mmake_fid\u001b[0;34m(name, mode, userblock_size, fapl, fcpl, swmr)\u001b[0m\n\u001b[1;32m    171\u001b[0m         \u001b[0;32mif\u001b[0m \u001b[0mswmr\u001b[0m \u001b[0;32mand\u001b[0m \u001b[0mswmr_support\u001b[0m\u001b[0;34m:\u001b[0m\u001b[0;34m\u001b[0m\u001b[0;34m\u001b[0m\u001b[0m\n\u001b[1;32m    172\u001b[0m             \u001b[0mflags\u001b[0m \u001b[0;34m|=\u001b[0m \u001b[0mh5f\u001b[0m\u001b[0;34m.\u001b[0m\u001b[0mACC_SWMR_READ\u001b[0m\u001b[0;34m\u001b[0m\u001b[0;34m\u001b[0m\u001b[0m\n\u001b[0;32m--> 173\u001b[0;31m         \u001b[0mfid\u001b[0m \u001b[0;34m=\u001b[0m \u001b[0mh5f\u001b[0m\u001b[0;34m.\u001b[0m\u001b[0mopen\u001b[0m\u001b[0;34m(\u001b[0m\u001b[0mname\u001b[0m\u001b[0;34m,\u001b[0m \u001b[0mflags\u001b[0m\u001b[0;34m,\u001b[0m \u001b[0mfapl\u001b[0m\u001b[0;34m=\u001b[0m\u001b[0mfapl\u001b[0m\u001b[0;34m)\u001b[0m\u001b[0;34m\u001b[0m\u001b[0;34m\u001b[0m\u001b[0m\n\u001b[0m\u001b[1;32m    174\u001b[0m     \u001b[0;32melif\u001b[0m \u001b[0mmode\u001b[0m \u001b[0;34m==\u001b[0m \u001b[0;34m'r+'\u001b[0m\u001b[0;34m:\u001b[0m\u001b[0;34m\u001b[0m\u001b[0;34m\u001b[0m\u001b[0m\n\u001b[1;32m    175\u001b[0m         \u001b[0mfid\u001b[0m \u001b[0;34m=\u001b[0m \u001b[0mh5f\u001b[0m\u001b[0;34m.\u001b[0m\u001b[0mopen\u001b[0m\u001b[0;34m(\u001b[0m\u001b[0mname\u001b[0m\u001b[0;34m,\u001b[0m \u001b[0mh5f\u001b[0m\u001b[0;34m.\u001b[0m\u001b[0mACC_RDWR\u001b[0m\u001b[0;34m,\u001b[0m \u001b[0mfapl\u001b[0m\u001b[0;34m=\u001b[0m\u001b[0mfapl\u001b[0m\u001b[0;34m)\u001b[0m\u001b[0;34m\u001b[0m\u001b[0;34m\u001b[0m\u001b[0m\n",
      "\u001b[0;32mh5py/_objects.pyx\u001b[0m in \u001b[0;36mh5py._objects.with_phil.wrapper\u001b[0;34m()\u001b[0m\n",
      "\u001b[0;32mh5py/_objects.pyx\u001b[0m in \u001b[0;36mh5py._objects.with_phil.wrapper\u001b[0;34m()\u001b[0m\n",
      "\u001b[0;32mh5py/h5f.pyx\u001b[0m in \u001b[0;36mh5py.h5f.open\u001b[0;34m()\u001b[0m\n",
      "\u001b[0;31mOSError\u001b[0m: Unable to open file (unable to open file: name = './params/params_bbp_passive.hdf5', errno = 2, error message = 'No such file or directory', flags = 0, o_flags = 0)"
     ]
    }
   ],
   "source": [
    "peeling_step = 'passive'\n",
    "GA_result_path = './neuron_genetic_alg/best_indv_logs/best_indvs_gen_16.pkl'\n",
    "#GA_result_path = './GPUbest_indvs_gen_13.pkl'\n",
    "\n",
    "params_path = './neuron_genetic_alg/params/params_bbp_'+peeling_step+'.hdf5'\n",
    "base_passive = h5py.File(params_path, 'r')['orig_'+peeling_step][0]\n",
    "peeling_ind_passive_bbp = [3, 20, 23] # bbp Passive\n",
    "base = [base_passive[i] for i in peeling_ind_passive_bbp]\n",
    "lbs = [0.01*p for p in base]\n",
    "ubs = [100*p for p in base]\n",
    "params_bbp_passive = [ph.params_bbp[i] for i in peeling_ind_passive_bbp]\n",
    "normalized_indvs_passive_bbp, best_indvs_passive_bbp = ph.read_and_normalize_with_neg(GA_result_path, base, lbs, ubs)\n",
    "print(normalized_indvs_passive_bbp[-1])\n",
    "file_path_to_save = './plots_prev_bounds/GA_bbp_passive'\n",
    "ph.final_indv_plot_by_section(params_bbp_passive, normalized_indvs_passive_bbp[-1], 'For Passive Parameters', file_path_to_save, 0.01, 6,dend_inds= [0],soma_inds=[1,2],axon_inds=None,xlim=[0,0.01])\n",
    "for i in range(len(base)):\n",
    "    ph.normalized_indvs_bbp_overall[peeling_ind_passive_bbp[i]] = normalized_indvs_passive_bbp[-1][i]\n",
    "    ph.best_indvs_bbp_overall[peeling_ind_passive_bbp[i]] = best_indvs_passive_bbp[-1][i]\n",
    "    "
   ]
  },
  {
   "cell_type": "code",
   "execution_count": 3,
   "metadata": {},
   "outputs": [
    {
     "name": "stderr",
     "output_type": "stream",
     "text": [
      "findfont: Font family ['sans-serif'] not found. Falling back to DejaVu Sans.\n",
      "findfont: Font family ['sans-serif'] not found. Falling back to DejaVu Sans.\n"
     ]
    },
    {
     "name": "stdout",
     "output_type": "stream",
     "text": [
      "[0.378493312165136, 0.9239178104863541, 0.24393301213014704]\n"
     ]
    },
    {
     "data": {
      "image/png": "[encoded data removed]",
      "text/plain": [
       "<Figure size 340.157x198.425 with 2 Axes>"
      ]
     },
     "metadata": {
      "needs_background": "light"
     },
     "output_type": "display_data"
    }
   ],
   "source": [
    "peeling_step = 'passive'\n",
    "GA_result_path = './neuron_genetic_alg/best_indv_logs/best_indvs_gen_2.pkl'\n",
    "params_path = './neuron_genetic_alg/params/params_bbp_'+peeling_step+'.hdf5'\n",
    "base_passive = h5py.File(params_path, 'r')['orig_'+peeling_step][0]\n",
    "peeling_ind_passive_bbp = [3, 20, 23] # bbp Passive\n",
    "base = [base_passive[i] for i in peeling_ind_passive_bbp]\n",
    "lbs = [0.01*p for p in base]\n",
    "ubs = [100*p for p in base]\n",
    "params_bbp_passive = [ph.params_bbp[i] for i in peeling_ind_passive_bbp]\n",
    "normalized_indvs_passive_bbp, best_indvs_passive_bbp = ph.read_and_normalize_with_neg(GA_result_path, base, lbs, ubs)\n",
    "print(normalized_indvs_passive_bbp[-1])\n",
    "file_path_to_save = './plots_prev_bounds/GA_bbp_passive'\n",
    "ph.final_indv_plot_by_section(params_bbp_passive, normalized_indvs_passive_bbp[-1], 'For Passive Parameters', file_path_to_save, 0.01, 6,dend_inds= [0],soma_inds=[1,2],axon_inds=None,xlim=[0,0.01])\n",
    "for i in range(len(base)):\n",
    "    ph.normalized_indvs_bbp_overall[peeling_ind_passive_bbp[i]] = normalized_indvs_passive_bbp[-1][i]\n",
    "    ph.best_indvs_bbp_overall[peeling_ind_passive_bbp[i]] = best_indvs_passive_bbp[-1][i]\n",
    "    "
   ]
  },
  {
   "cell_type": "markdown",
   "metadata": {},
   "source": [
    "### Train stim response"
   ]
  },
  {
   "cell_type": "code",
   "execution_count": 8,
   "metadata": {},
   "outputs": [],
   "source": [
    "best_passive = list(base_passive)\n",
    "for i in range(len(peeling_ind_passive_bbp)):\n",
    "    best_passive[peeling_ind_passive_bbp[i]] = best_indvs_passive_bbp[-1][i]"
   ]
  },
  {
   "cell_type": "code",
   "execution_count": 15,
   "metadata": {},
   "outputs": [
    {
     "name": "stdout",
     "output_type": "stream",
     "text": [
      "<KeysViewHDF5 ['chirp_f_0.05_to_0_a_0.05_to_0.05_m_-0.1', 'chirp_f_0.05_to_0_a_0.05_to_0.1_m_-0.1', 'chirp_f_0.05_to_0_a_0.05_to_0.2_m_-0.1', 'chirp_f_0.05_to_0_a_0.1_to_0.05_m_-0.1', 'chirp_f_0.05_to_0_a_0.1_to_0.1_m_-0.1', 'chirp_f_0.05_to_0_a_0.2_to_0.05_m_-0.1', 'chirp_f_0.05_to_0_a_0.2_to_0.2_m_-0.1', 'chirp_f_0.05_to_0_a_0.2_to_0.2_m_-0.3', 'chirp_f_0.05_to_0_a_0.2_to_0.3_m_-0.3', 'chirp_f_0.05_to_0_a_0.2_to_0.4_m_-0.3', 'chirp_f_0.05_to_0_a_0.3_to_0.2_m_-0.3', 'chirp_f_0.05_to_0_a_0.3_to_0.3_m_-0.3', 'chirp_f_0.05_to_0_a_0.4_to_0.2_m_-0.3', 'chirp_f_0.05_to_0_a_0.4_to_0.4_m_-0.3', 'chirp_f_0.1_to_0_a_0.05_to_0.05_m_-0.1', 'chirp_f_0.1_to_0_a_0.05_to_0.1_m_-0.1', 'chirp_f_0.1_to_0_a_0.05_to_0.2_m_-0.1', 'chirp_f_0.1_to_0_a_0.1_to_0.05_m_-0.1', 'chirp_f_0.1_to_0_a_0.1_to_0.1_m_-0.1', 'chirp_f_0.1_to_0_a_0.2_to_0.05_m_-0.1', 'chirp_f_0.1_to_0_a_0.2_to_0.2_m_-0.1', 'chirp_f_0.1_to_0_a_0.2_to_0.2_m_-0.3', 'chirp_f_0.1_to_0_a_0.2_to_0.3_m_-0.3', 'chirp_f_0.1_to_0_a_0.2_to_0.4_m_-0.3', 'chirp_f_0.1_to_0_a_0.3_to_0.2_m_-0.3', 'chirp_f_0.1_to_0_a_0.3_to_0.3_m_-0.3', 'chirp_f_0.1_to_0_a_0.4_to_0.2_m_-0.3', 'chirp_f_0.1_to_0_a_0.4_to_0.4_m_-0.3', 'chirp_f_0.2_to_0_a_0.05_to_0.05_m_-0.1', 'chirp_f_0.2_to_0_a_0.05_to_0.1_m_-0.1', 'chirp_f_0.2_to_0_a_0.05_to_0.2_m_-0.1', 'chirp_f_0.2_to_0_a_0.1_to_0.05_m_-0.1', 'chirp_f_0.2_to_0_a_0.1_to_0.1_m_-0.1', 'chirp_f_0.2_to_0_a_0.2_to_0.05_m_-0.1', 'chirp_f_0.2_to_0_a_0.2_to_0.2_m_-0.1', 'chirp_f_0.2_to_0_a_0.2_to_0.2_m_-0.3', 'chirp_f_0.2_to_0_a_0.2_to_0.3_m_-0.3', 'chirp_f_0.2_to_0_a_0.2_to_0.4_m_-0.3', 'chirp_f_0.2_to_0_a_0.3_to_0.2_m_-0.3', 'chirp_f_0.2_to_0_a_0.3_to_0.3_m_-0.3', 'chirp_f_0.2_to_0_a_0.4_to_0.2_m_-0.3', 'chirp_f_0.2_to_0_a_0.4_to_0.4_m_-0.3', 'chirp_f_0.3_to_0_a_0.05_to_0.05_m_-0.1', 'chirp_f_0.3_to_0_a_0.05_to_0.1_m_-0.1', 'chirp_f_0.3_to_0_a_0.05_to_0.2_m_-0.1', 'chirp_f_0.3_to_0_a_0.1_to_0.05_m_-0.1', 'chirp_f_0.3_to_0_a_0.1_to_0.1_m_-0.1', 'chirp_f_0.3_to_0_a_0.2_to_0.05_m_-0.1', 'chirp_f_0.3_to_0_a_0.2_to_0.2_m_-0.1', 'chirp_f_0.3_to_0_a_0.2_to_0.2_m_-0.3', 'chirp_f_0.3_to_0_a_0.2_to_0.3_m_-0.3', 'chirp_f_0.3_to_0_a_0.2_to_0.4_m_-0.3', 'chirp_f_0.3_to_0_a_0.3_to_0.2_m_-0.3', 'chirp_f_0.3_to_0_a_0.3_to_0.3_m_-0.3', 'chirp_f_0.3_to_0_a_0.4_to_0.2_m_-0.3', 'chirp_f_0.3_to_0_a_0.4_to_0.4_m_-0.3', 'chirp_f_0_to_0.05_a_0.05_to_0.05_m_-0.1', 'chirp_f_0_to_0.05_a_0.05_to_0.1_m_-0.1', 'chirp_f_0_to_0.05_a_0.05_to_0.2_m_-0.1', 'chirp_f_0_to_0.05_a_0.2_to_0.2_m_-0.3', 'chirp_f_0_to_0.05_a_0.2_to_0.3_m_-0.3', 'chirp_f_0_to_0.05_a_0.2_to_0.4_m_-0.3', 'chirp_f_0_to_0.1_a_0.05_to_0.05_m_-0.1', 'chirp_f_0_to_0.1_a_0.05_to_0.1_m_-0.1', 'chirp_f_0_to_0.1_a_0.05_to_0.2_m_-0.1', 'chirp_f_0_to_0.1_a_0.2_to_0.2_m_-0.3', 'chirp_f_0_to_0.1_a_0.2_to_0.3_m_-0.3', 'chirp_f_0_to_0.1_a_0.2_to_0.4_m_-0.3', 'chirp_f_0_to_0.2_a_0.05_to_0.05_m_-0.1', 'chirp_f_0_to_0.2_a_0.05_to_0.1_m_-0.1', 'chirp_f_0_to_0.2_a_0.05_to_0.2_m_-0.1', 'chirp_f_0_to_0.2_a_0.2_to_0.2_m_-0.3', 'chirp_f_0_to_0.2_a_0.2_to_0.3_m_-0.3', 'chirp_f_0_to_0.2_a_0.2_to_0.4_m_-0.3', 'chirp_f_0_to_0.3_a_0.05_to_0.05_m_-0.1', 'chirp_f_0_to_0.3_a_0.05_to_0.1_m_-0.1', 'chirp_f_0_to_0.3_a_0.05_to_0.2_m_-0.1', 'chirp_f_0_to_0.3_a_0.2_to_0.2_m_-0.3', 'chirp_f_0_to_0.3_a_0.2_to_0.3_m_-0.3', 'chirp_f_0_to_0.3_a_0.2_to_0.4_m_-0.3', 'negramp_-0.3', 'negramp_-0.35', 'negramp_-0.4', 'negramp_-0.45', 'negramp_-0.5', 'ramp_-0.3', 'ramp_-0.35', 'ramp_-0.4', 'ramp_-0.45', 'ramp_-0.5', 'step_-0.05', 'step_-0.1', 'step_-0.15', 'step_-0.2', 'step_-0.25', 'step_-0.3', 'step_-0.35', 'step_-0.4', 'step_-0.45', 'step_-0.5']>\n"
     ]
    },
    {
     "ename": "KeyError",
     "evalue": "\"Unable to open object (object 'chirp_f_0.2_to_0_a_9_to_9' doesn't exist)\"",
     "output_type": "error",
     "traceback": [
      "\u001b[0;31m---------------------------------------------------------------------------\u001b[0m",
      "\u001b[0;31mKeyError\u001b[0m                                  Traceback (most recent call last)",
      "\u001b[0;32m<ipython-input-15-d69460ffdddc>\u001b[0m in \u001b[0;36m<module>\u001b[0;34m()\u001b[0m\n\u001b[1;32m      1\u001b[0m \u001b[0mtrain_stim1_name_passive\u001b[0m \u001b[0;34m=\u001b[0m \u001b[0mtrain_stim_names_passive\u001b[0m\u001b[0;34m[\u001b[0m\u001b[0;36m0\u001b[0m\u001b[0;34m]\u001b[0m\u001b[0;34m\u001b[0m\u001b[0;34m\u001b[0m\u001b[0m\n\u001b[1;32m      2\u001b[0m \u001b[0mprint\u001b[0m\u001b[0;34m(\u001b[0m\u001b[0mneg_stims\u001b[0m\u001b[0;34m.\u001b[0m\u001b[0mkeys\u001b[0m\u001b[0;34m(\u001b[0m\u001b[0;34m)\u001b[0m\u001b[0;34m)\u001b[0m\u001b[0;34m\u001b[0m\u001b[0;34m\u001b[0m\u001b[0m\n\u001b[0;32m----> 3\u001b[0;31m \u001b[0mtrain_stim1_passive\u001b[0m \u001b[0;34m=\u001b[0m \u001b[0mneg_stims\u001b[0m\u001b[0;34m[\u001b[0m\u001b[0mtrain_stim1_name_passive\u001b[0m\u001b[0;34m]\u001b[0m\u001b[0;34m[\u001b[0m\u001b[0;34m:\u001b[0m\u001b[0;34m]\u001b[0m\u001b[0;34m\u001b[0m\u001b[0;34m\u001b[0m\u001b[0m\n\u001b[0m\u001b[1;32m      4\u001b[0m \u001b[0mtrain_volts_passive_target\u001b[0m\u001b[0;34m,\u001b[0m\u001b[0mtimes\u001b[0m \u001b[0;34m=\u001b[0m \u001b[0mph\u001b[0m\u001b[0;34m.\u001b[0m\u001b[0mrun_single_volts\u001b[0m\u001b[0;34m(\u001b[0m\u001b[0mbase_passive\u001b[0m\u001b[0;34m,\u001b[0m \u001b[0mtrain_stim1_passive\u001b[0m\u001b[0;34m)\u001b[0m\u001b[0;34m\u001b[0m\u001b[0;34m\u001b[0m\u001b[0m\n\u001b[1;32m      5\u001b[0m \u001b[0mtrain_volts_passive_best_response\u001b[0m\u001b[0;34m,\u001b[0m\u001b[0mtimes\u001b[0m \u001b[0;34m=\u001b[0m \u001b[0mph\u001b[0m\u001b[0;34m.\u001b[0m\u001b[0mrun_single_volts\u001b[0m\u001b[0;34m(\u001b[0m\u001b[0mbest_passive\u001b[0m\u001b[0;34m,\u001b[0m \u001b[0mtrain_stim1_passive\u001b[0m\u001b[0;34m)\u001b[0m\u001b[0;34m\u001b[0m\u001b[0;34m\u001b[0m\u001b[0m\n",
      "\u001b[0;32mh5py/_objects.pyx\u001b[0m in \u001b[0;36mh5py._objects.with_phil.wrapper\u001b[0;34m()\u001b[0m\n",
      "\u001b[0;32mh5py/_objects.pyx\u001b[0m in \u001b[0;36mh5py._objects.with_phil.wrapper\u001b[0;34m()\u001b[0m\n",
      "\u001b[0;32m/global/homes/z/zladd/.conda/envs/.env/lib/python3.6/site-packages/h5py/_hl/group.py\u001b[0m in \u001b[0;36m__getitem__\u001b[0;34m(self, name)\u001b[0m\n\u001b[1;32m    262\u001b[0m                 \u001b[0;32mraise\u001b[0m \u001b[0mValueError\u001b[0m\u001b[0;34m(\u001b[0m\u001b[0;34m\"Invalid HDF5 object reference\"\u001b[0m\u001b[0;34m)\u001b[0m\u001b[0;34m\u001b[0m\u001b[0;34m\u001b[0m\u001b[0m\n\u001b[1;32m    263\u001b[0m         \u001b[0;32melse\u001b[0m\u001b[0;34m:\u001b[0m\u001b[0;34m\u001b[0m\u001b[0;34m\u001b[0m\u001b[0m\n\u001b[0;32m--> 264\u001b[0;31m             \u001b[0moid\u001b[0m \u001b[0;34m=\u001b[0m \u001b[0mh5o\u001b[0m\u001b[0;34m.\u001b[0m\u001b[0mopen\u001b[0m\u001b[0;34m(\u001b[0m\u001b[0mself\u001b[0m\u001b[0;34m.\u001b[0m\u001b[0mid\u001b[0m\u001b[0;34m,\u001b[0m \u001b[0mself\u001b[0m\u001b[0;34m.\u001b[0m\u001b[0m_e\u001b[0m\u001b[0;34m(\u001b[0m\u001b[0mname\u001b[0m\u001b[0;34m)\u001b[0m\u001b[0;34m,\u001b[0m \u001b[0mlapl\u001b[0m\u001b[0;34m=\u001b[0m\u001b[0mself\u001b[0m\u001b[0;34m.\u001b[0m\u001b[0m_lapl\u001b[0m\u001b[0;34m)\u001b[0m\u001b[0;34m\u001b[0m\u001b[0;34m\u001b[0m\u001b[0m\n\u001b[0m\u001b[1;32m    265\u001b[0m \u001b[0;34m\u001b[0m\u001b[0m\n\u001b[1;32m    266\u001b[0m         \u001b[0motype\u001b[0m \u001b[0;34m=\u001b[0m \u001b[0mh5i\u001b[0m\u001b[0;34m.\u001b[0m\u001b[0mget_type\u001b[0m\u001b[0;34m(\u001b[0m\u001b[0moid\u001b[0m\u001b[0;34m)\u001b[0m\u001b[0;34m\u001b[0m\u001b[0;34m\u001b[0m\u001b[0m\n",
      "\u001b[0;32mh5py/_objects.pyx\u001b[0m in \u001b[0;36mh5py._objects.with_phil.wrapper\u001b[0;34m()\u001b[0m\n",
      "\u001b[0;32mh5py/_objects.pyx\u001b[0m in \u001b[0;36mh5py._objects.with_phil.wrapper\u001b[0;34m()\u001b[0m\n",
      "\u001b[0;32mh5py/h5o.pyx\u001b[0m in \u001b[0;36mh5py.h5o.open\u001b[0;34m()\u001b[0m\n",
      "\u001b[0;31mKeyError\u001b[0m: \"Unable to open object (object 'chirp_f_0.2_to_0_a_9_to_9' doesn't exist)\""
     ]
    }
   ],
   "source": [
    "train_stim1_name_passive = train_stim_names_passive[0]\n",
    "print(neg_stims.keys())\n",
    "train_stim1_passive = neg_stims[train_stim1_name_passive][:]\n",
    "train_volts_passive_target,times = ph.run_single_volts(base_passive, train_stim1_passive)\n",
    "train_volts_passive_best_response,times = ph.run_single_volts(best_passive, train_stim1_passive)\n",
    "file_save_path = './plots_prev_bounds/train_bbp_passive'\n",
    "volts = [train_volts_passive_target, train_volts_passive_best_response]\n",
    "print(volts[0])\n",
    "print(volts[1])\n",
    "ph.plot_stim_volts_pair(train_stim1_passive, volts, train_stim1_name_passive.decode('ascii')+' (Training)', 'for Passive Parameters', file_save_path)\n"
   ]
  },
  {
   "cell_type": "code",
   "execution_count": 6,
   "metadata": {},
   "outputs": [
    {
     "ename": "NameError",
     "evalue": "name 'train_stim_names_passive' is not defined",
     "output_type": "error",
     "traceback": [
      "\u001b[0;31m---------------------------------------------------------------------------\u001b[0m",
      "\u001b[0;31mNameError\u001b[0m                                 Traceback (most recent call last)",
      "\u001b[0;32m<ipython-input-6-9a4defd6620f>\u001b[0m in \u001b[0;36m<module>\u001b[0;34m()\u001b[0m\n\u001b[1;32m      2\u001b[0m \u001b[0;32mfor\u001b[0m \u001b[0mi\u001b[0m \u001b[0;32min\u001b[0m \u001b[0mrange\u001b[0m\u001b[0;34m(\u001b[0m\u001b[0mlen\u001b[0m\u001b[0;34m(\u001b[0m\u001b[0mpeeling_ind_passive_bbp\u001b[0m\u001b[0;34m)\u001b[0m\u001b[0;34m)\u001b[0m\u001b[0;34m:\u001b[0m\u001b[0;34m\u001b[0m\u001b[0;34m\u001b[0m\u001b[0m\n\u001b[1;32m      3\u001b[0m     \u001b[0mbest_passive\u001b[0m\u001b[0;34m[\u001b[0m\u001b[0mpeeling_ind_passive_bbp\u001b[0m\u001b[0;34m[\u001b[0m\u001b[0mi\u001b[0m\u001b[0;34m]\u001b[0m\u001b[0;34m]\u001b[0m \u001b[0;34m=\u001b[0m \u001b[0mbest_indvs_passive_bbp\u001b[0m\u001b[0;34m[\u001b[0m\u001b[0;34m-\u001b[0m\u001b[0;36m1\u001b[0m\u001b[0;34m]\u001b[0m\u001b[0;34m[\u001b[0m\u001b[0mi\u001b[0m\u001b[0;34m]\u001b[0m\u001b[0;34m\u001b[0m\u001b[0;34m\u001b[0m\u001b[0m\n\u001b[0;32m----> 4\u001b[0;31m \u001b[0mtrain_stim1_name_passive\u001b[0m \u001b[0;34m=\u001b[0m \u001b[0mtrain_stim_names_passive\u001b[0m\u001b[0;34m[\u001b[0m\u001b[0;36m0\u001b[0m\u001b[0;34m]\u001b[0m\u001b[0;34m\u001b[0m\u001b[0;34m\u001b[0m\u001b[0m\n\u001b[0m\u001b[1;32m      5\u001b[0m \u001b[0mtrain_stim1_passive\u001b[0m \u001b[0;34m=\u001b[0m \u001b[0mneg_stims\u001b[0m\u001b[0;34m[\u001b[0m\u001b[0mtrain_stim1_name_passive\u001b[0m\u001b[0;34m]\u001b[0m\u001b[0;34m[\u001b[0m\u001b[0;34m:\u001b[0m\u001b[0;34m]\u001b[0m\u001b[0;34m\u001b[0m\u001b[0;34m\u001b[0m\u001b[0m\n\u001b[1;32m      6\u001b[0m \u001b[0mtrain_volts_passive_target\u001b[0m\u001b[0;34m,\u001b[0m\u001b[0mtimes\u001b[0m \u001b[0;34m=\u001b[0m \u001b[0mph\u001b[0m\u001b[0;34m.\u001b[0m\u001b[0mrun_single_volts\u001b[0m\u001b[0;34m(\u001b[0m\u001b[0mbase_passive\u001b[0m\u001b[0;34m,\u001b[0m \u001b[0mtrain_stim1_passive\u001b[0m\u001b[0;34m)\u001b[0m\u001b[0;34m\u001b[0m\u001b[0;34m\u001b[0m\u001b[0m\n",
      "\u001b[0;31mNameError\u001b[0m: name 'train_stim_names_passive' is not defined"
     ]
    }
   ],
   "source": [
    "best_passive = list(base_passive)\n",
    "for i in range(len(peeling_ind_passive_bbp)):\n",
    "    best_passive[peeling_ind_passive_bbp[i]] = best_indvs_passive_bbp[-1][i]\n",
    "train_stim1_name_passive = train_stim_names_passive[0]\n",
    "train_stim1_passive = neg_stims[train_stim1_name_passive][:]\n",
    "train_volts_passive_target,times = ph.run_single_volts(base_passive, train_stim1_passive)\n",
    "train_volts_passive_best_response,times = ph.run_single_volts(best_passive, train_stim1_passive)\n",
    "file_save_path = './plots_prev_bounds/train_bbp_passive'\n",
    "volts = [train_volts_passive_target, train_volts_passive_best_response]\n",
    "print(volts[0])\n",
    "print(volts[1])\n",
    "ph.plot_stim_volts_pair(train_stim1_passive, volts, train_stim1_name_passive.decode('ascii')+' (Training)', 'for Passive Parameters', file_save_path)\n"
   ]
  },
  {
   "cell_type": "markdown",
   "metadata": {},
   "source": [
    "### Test stim response"
   ]
  },
  {
   "cell_type": "code",
   "execution_count": null,
   "metadata": {},
   "outputs": [],
   "source": [
    "test_volts_passive_target1,times = ph.run_single_volts(base_passive, test_stim1)\n",
    "test_volts_passive_best_response1,times = ph.run_single_volts(best_passive, test_stim1)\n",
    "file_save_path = './plots_prev_bounds/test_bbp_passive_stim1'\n",
    "ph.plot_stim_volts_pair(test_stim1, [test_volts_passive_target1, test_volts_passive_best_response1], test_stim1_name+' (Testing)', 'for Passive Parameters', file_save_path)\n",
    "\n",
    "test_volts_passive_target2,times = ph.run_single_volts(base_passive, test_stim2)\n",
    "test_volts_passive_best_response2,times = ph.run_single_volts(best_passive, test_stim2)\n",
    "file_save_path = './plots_prev_bounds/test_bbp_passive_stim2'\n",
    "ph.plot_stim_volts_pair(test_stim2, [test_volts_passive_target2, test_volts_passive_best_response2], test_stim2_name+' (Testing)', 'for Passive Parameters', file_save_path)\n"
   ]
  },
  {
   "cell_type": "markdown",
   "metadata": {},
   "source": [
    "## Potassium "
   ]
  },
  {
   "cell_type": "markdown",
   "metadata": {},
   "source": [
    "### Score function"
   ]
  },
  {
   "cell_type": "code",
   "execution_count": 44,
   "metadata": {},
   "outputs": [
    {
     "name": "stderr",
     "output_type": "stream",
     "text": [
      "../..\\plot_helper.py:198: H5pyDeprecationWarning: The default file mode will change to 'r' (read-only) in h5py 3.0. To suppress this warning, pass the mode you need to h5py.File(), or set the global default h5.get_config().default_file_mode, or set the environment variable H5PY_DEFAULT_READONLY=1. Available modes are: 'r', 'r+', 'w', 'w-'/'x', 'a'. See the docs for details.\n",
      "  opt_result = h5py.File(opt_path)\n"
     ]
    },
    {
     "name": "stdout",
     "output_type": "stream",
     "text": [
      "<KeysViewHDF5 ['opt_stim_name_list', 'opt_weight_list', 'ordered_score_function_list']>\n",
      "Stims used to train:\n",
      "step_-0.25\n",
      "step_-0.3\n",
      "chirp_f_0_to_0.05_a_0.2_to_0.4_m_-0.3\n",
      "chirp_f_0_to_0.05_a_0.2_to_0.3_m_-0.3\n",
      "chirp_f_0_to_0.05_a_0.2_to_0.2_m_-0.3\n",
      "chirp_f_0_to_0.1_a_0.2_to_0.2_m_-0.3\n",
      "chirp_f_0_to_0.1_a_0.2_to_0.3_m_-0.3\n",
      "chirp_f_0_to_0.1_a_0.2_to_0.4_m_-0.3\n",
      "negramp_-0.4\n",
      "chirp_f_0_to_0.3_a_0.2_to_0.2_m_-0.3\n",
      "chirp_f_0_to_0.2_a_0.2_to_0.3_m_-0.3\n",
      "chirp_f_0_to_0.2_a_0.2_to_0.2_m_-0.3\n",
      "negramp_-0.35\n",
      "chirp_f_0_to_0.3_a_0.2_to_0.3_m_-0.3\n",
      "negramp_-0.45\n",
      "chirp_f_0_to_0.2_a_0.2_to_0.4_m_-0.3\n",
      "step_-0.35\n",
      "chirp_f_0_to_0.3_a_0.2_to_0.4_m_-0.3\n",
      "ramp_-0.5\n",
      "ramp_-0.45\n"
     ]
    },
    {
     "data": {
      "image/png": "[encoded data removed]",
      "text/plain": [
       "<Figure size 240.945x141.732 with 1 Axes>"
      ]
     },
     "metadata": {
      "needs_background": "light"
     },
     "output_type": "display_data"
    }
   ],
   "source": [
    "bbp_potassium_opt_path = './objectives/multi_stim_without_sensitivity_bbp_potassium_01_26_2021_stims.hdf5'\n",
    "bbp_potassium_score_path = '../scores/'\n",
    "bbp_potassium_plot_path = './plots_prev_bounds/scores_bbp_potassium'\n",
    "ph.plot_comb_scores(bbp_potassium_opt_path, bbp_potassium_score_path, 'Peeling BBP Potassium', bbp_potassium_plot_path)\n",
    "print('Stims used to train:')\n",
    "train_stim_names_potassium = h5py.File(bbp_potassium_opt_path, 'r')['opt_stim_name_list'][:]\n",
    "for e in train_stim_names_potassium:\n",
    "    print(e.decode('ascii'))\n"
   ]
  },
  {
   "cell_type": "markdown",
   "metadata": {},
   "source": [
    "### Genetic algorithm result"
   ]
  },
  {
   "cell_type": "code",
   "execution_count": 45,
   "metadata": {},
   "outputs": [
    {
     "name": "stdout",
     "output_type": "stream",
     "text": [
      "['gSKv3_1bar_SKv3_1_apical', 'gIhbar_Ih_apical', 'gImbar_Im_apical', 'gK_Tstbar_K_Tst_axonal', 'gK_Pstbar_K_Pst_axonal', 'gSKv3_1bar_SKv3_1_axonal', 'gSKv3_1bar_SKv3_1_somatic', 'gIhbar_Ih_somatic', 'g_pas']\n"
     ]
    }
   ],
   "source": [
    "peeling_step = 'potassium'\n",
    "GA_result_path = './GA_results/prev_params_20_percent_bound/best_indv_bbp_'+peeling_step+'.pkl'\n",
    "params_path = './params/params_bbp_'+peeling_step+'.hdf5'\n",
    "base_potassium = h5py.File(params_path, 'r')['orig_'+peeling_step][0]\n",
    "peeling_ind_potassium_bbp = [2, 3, 4, 6, 11, 12, 16, 20, 23] # bbp Potassium and Passive\n",
    "base = [base_potassium[i] for i in peeling_ind_potassium_bbp]\n",
    "lbs = [0.01*p for p in base]\n",
    "ubs = [100*p for p in base]\n",
    "params_bbp_potassium = [ph.params_bbp[i] for i in peeling_ind_potassium_bbp]\n",
    "normalized_indvs_potassium_bbp, best_indvs_potassium_bbp = ph.read_and_normalize_with_neg(GA_result_path, base, lbs, ubs)\n",
    "file_path_to_save = './plots_prev_bounds/GA_bbp_potassium'\n",
    "print(params_bbp_potassium)\n"
   ]
  },
  {
   "cell_type": "code",
   "execution_count": 46,
   "metadata": {},
   "outputs": [
    {
     "data": {
      "image/png": "[encoded data removed]",
      "text/plain": [
       "<Figure size 340.157x198.425 with 3 Axes>"
      ]
     },
     "metadata": {
      "needs_background": "light"
     },
     "output_type": "display_data"
    }
   ],
   "source": [
    "ph.final_indv_plot_by_section(params_bbp_potassium, normalized_indvs_potassium_bbp[-1], 'For Potassium Parameters', file_path_to_save,dend_inds=[0,1,2],axon_inds=[3,4,5],soma_inds=[6,7,8] ,xlim=[0,0.1])\n",
    "for i in range(len(base)):\n",
    "    ph.normalized_indvs_bbp_overall[peeling_ind_potassium_bbp[i]] = normalized_indvs_potassium_bbp[-1][i]\n",
    "    ph.best_indvs_bbp_overall[peeling_ind_potassium_bbp[i]] = best_indvs_potassium_bbp[-1][i]\n",
    "    "
   ]
  },
  {
   "cell_type": "markdown",
   "metadata": {},
   "source": [
    "### Train stim response"
   ]
  },
  {
   "cell_type": "code",
   "execution_count": 47,
   "metadata": {},
   "outputs": [],
   "source": [
    "best_potassium = list(base_potassium)\n",
    "for i in range(len(peeling_ind_potassium_bbp)):\n",
    "    best_potassium[peeling_ind_potassium_bbp[i]] = best_indvs_potassium_bbp[-1][i]"
   ]
  },
  {
   "cell_type": "code",
   "execution_count": 48,
   "metadata": {},
   "outputs": [
    {
     "name": "stdout",
     "output_type": "stream",
     "text": [
      "8e-005\t0\t0.004226\t8e-005\t0.000143\t\n",
      "0\t0.089259\t0.00291\t0\t0\t\n",
      "0\t0.973538\t1.02195\t287.199\t0\t\n",
      "0.000609\t0.303472\t0\t0\t0\t\n",
      "8e-005\t210.485\t0\t3e-005\t\n",
      "finshed run matrix\n",
      "8e-005\t0\t0.00855308\t8.33698e-005\t0.000123298\t\n",
      "0\t4.96856\t0.00291\t0\t0\t\n",
      "0\t0.820759\t1.90376\t287.199\t0\t\n",
      "0.000609\t0.0632149\t0\t0\t0\t\n",
      "3.27272e-005\t210.485\t0\t2.99621e-005\t\n",
      "finshed run matrix\n"
     ]
    },
    {
     "data": {
      "text/plain": [
       "(<Figure size 226.772x221.102 with 2 Axes>,\n",
       " array([<AxesSubplot:title={'center':'step_-0.25 (Training)'}>,\n",
       "        <AxesSubplot:>], dtype=object))"
      ]
     },
     "execution_count": 48,
     "metadata": {},
     "output_type": "execute_result"
    },
    {
     "data": {
      "image/png": "[encoded data removed]",
      "text/plain": [
       "<Figure size 226.772x221.102 with 2 Axes>"
      ]
     },
     "metadata": {
      "needs_background": "light"
     },
     "output_type": "display_data"
    }
   ],
   "source": [
    "train_stim1_name_potassium = train_stim_names_potassium[0]\n",
    "train_stim1_potassium = neg_stims[train_stim1_name_potassium][:]\n",
    "train_volts_potassium_target,time = ph.run_single_volts(base_potassium, train_stim1_potassium)\n",
    "train_volts_potassium_best_response,time = ph.run_single_volts(best_potassium, train_stim1_potassium)\n",
    "file_save_path = './plots_prev_bounds/train_bbp_potassium'\n",
    "ph.plot_stim_volts_pair(train_stim1_potassium, [train_volts_potassium_target, train_volts_potassium_best_response], train_stim1_name_potassium.decode('ascii')+' (Training)', 'for Potassium Parameters', file_save_path)\n"
   ]
  },
  {
   "cell_type": "markdown",
   "metadata": {},
   "source": [
    "### Test stim response"
   ]
  },
  {
   "cell_type": "code",
   "execution_count": 49,
   "metadata": {},
   "outputs": [
    {
     "name": "stdout",
     "output_type": "stream",
     "text": [
      "8e-005\t0\t0.004226\t8e-005\t0.000143\t\n",
      "0\t0.089259\t0.00291\t0\t0\t\n",
      "0\t0.973538\t1.02195\t287.199\t0\t\n",
      "0.000609\t0.303472\t0\t0\t0\t\n",
      "8e-005\t210.485\t0\t3e-005\t\n",
      "finshed run matrix\n",
      "8e-005\t0\t0.00855308\t8.33698e-005\t0.000123298\t\n",
      "0\t4.96856\t0.00291\t0\t0\t\n",
      "0\t0.820759\t1.90376\t287.199\t0\t\n",
      "0.000609\t0.0632149\t0\t0\t0\t\n",
      "3.27272e-005\t210.485\t0\t2.99621e-005\t\n",
      "finshed run matrix\n",
      "8e-005\t0\t0.004226\t8e-005\t0.000143\t\n",
      "0\t0.089259\t0.00291\t0\t0\t\n",
      "0\t0.973538\t1.02195\t287.199\t0\t\n",
      "0.000609\t0.303472\t0\t0\t0\t\n",
      "8e-005\t210.485\t0\t3e-005\t\n",
      "finshed run matrix\n",
      "8e-005\t0\t0.00855308\t8.33698e-005\t0.000123298\t\n",
      "0\t4.96856\t0.00291\t0\t0\t\n",
      "0\t0.820759\t1.90376\t287.199\t0\t\n",
      "0.000609\t0.0632149\t0\t0\t0\t\n",
      "3.27272e-005\t210.485\t0\t2.99621e-005\t\n",
      "finshed run matrix\n"
     ]
    },
    {
     "data": {
      "text/plain": [
       "(<Figure size 226.772x221.102 with 2 Axes>,\n",
       " array([<AxesSubplot:title={'center':'chirp_f_0.12_to_0_a_3_to_3 (Testing)'}>,\n",
       "        <AxesSubplot:>], dtype=object))"
      ]
     },
     "execution_count": 49,
     "metadata": {},
     "output_type": "execute_result"
    },
    {
     "data": {
      "image/png": "[encoded data removed]",
      "text/plain": [
       "<Figure size 226.772x221.102 with 2 Axes>"
      ]
     },
     "metadata": {
      "needs_background": "light"
     },
     "output_type": "display_data"
    },
    {
     "data": {
      "image/png": "[encoded data removed]",
      "text/plain": [
       "<Figure size 226.772x221.102 with 2 Axes>"
      ]
     },
     "metadata": {
      "needs_background": "light"
     },
     "output_type": "display_data"
    }
   ],
   "source": [
    "test_volts_potassium_target1,times = ph.run_single_volts(base_potassium, test_stim1)\n",
    "test_volts_potassium_best_response1,times = ph.run_single_volts(best_potassium, test_stim1)\n",
    "file_save_path = './plots_prev_bounds/test_bbp_potassium_stim1'\n",
    "ph.plot_stim_volts_pair(test_stim1, [test_volts_potassium_target1, test_volts_potassium_best_response1], test_stim1_name+' (Testing)', 'for Potassium Parameters', file_save_path)\n",
    "\n",
    "test_volts_potassium_target2,times = ph.run_single_volts(base_potassium, test_stim2)\n",
    "test_volts_potassium_best_response2,times = ph.run_single_volts(best_potassium, test_stim2)\n",
    "file_save_path = './plots_prev_bounds/test_bbp_potassium_stim2'\n",
    "ph.plot_stim_volts_pair(test_stim2, [test_volts_potassium_target2, test_volts_potassium_best_response2], test_stim2_name+' (Testing)', 'for Potassium Parameters', file_save_path)\n"
   ]
  },
  {
   "cell_type": "markdown",
   "metadata": {},
   "source": [
    "## Sodium"
   ]
  },
  {
   "cell_type": "markdown",
   "metadata": {},
   "source": [
    "### Score function"
   ]
  },
  {
   "cell_type": "code",
   "execution_count": 50,
   "metadata": {},
   "outputs": [
    {
     "name": "stderr",
     "output_type": "stream",
     "text": [
      "../..\\plot_helper.py:198: H5pyDeprecationWarning: The default file mode will change to 'r' (read-only) in h5py 3.0. To suppress this warning, pass the mode you need to h5py.File(), or set the global default h5.get_config().default_file_mode, or set the environment variable H5PY_DEFAULT_READONLY=1. Available modes are: 'r', 'r+', 'w', 'w-'/'x', 'a'. See the docs for details.\n",
      "  opt_result = h5py.File(opt_path)\n"
     ]
    },
    {
     "name": "stdout",
     "output_type": "stream",
     "text": [
      "<KeysViewHDF5 ['opt_stim_name_list', 'opt_weight_list', 'ordered_score_function_list']>\n",
      "Stims used to train:\n",
      "chirp_f_0.1_to_0_a_6_to_6\n",
      "chirp_f_0.26_to_0_a_9_to_3\n",
      "chirp_f_0.28_to_0_a_9_to_3\n",
      "chirp_f_0.26_to_0_a_9_to_9\n",
      "chirp_f_0.2_to_0_a_6_to_6\n",
      "chirp_f_0.1_to_0_a_3_to_9\n",
      "sin_f_0.8_a_9_m_0\n",
      "chirp_f_0.26_to_0_a_6_to_6\n",
      "chirp_f_0.24_to_0_a_9_to_3\n",
      "chirp_f_0.28_to_0_a_3_to_9\n",
      "chirp_f_0.18_to_0_a_3_to_9\n",
      "chirp_f_0.1_to_0_a_3_to_6\n",
      "chirp_f_0.28_to_0_a_9_to_9\n",
      "chirp_f_0.1_to_0_a_6_to_3\n",
      "chirp_f_0_to_0.12_a_3_to_6\n",
      "chirp_f_0.18_to_0_a_6_to_3\n",
      "chirp_f_0.28_to_0_a_6_to_6\n",
      "chirp_f_0.12_to_0_a_6_to_3\n",
      "chirp_f_0.22_to_0_a_6_to_3\n",
      "chirp_f_0.2_to_0_a_6_to_3\n"
     ]
    },
    {
     "data": {
      "image/png": "[encoded data removed]",
      "text/plain": [
       "<Figure size 240.945x141.732 with 1 Axes>"
      ]
     },
     "metadata": {
      "needs_background": "light"
     },
     "output_type": "display_data"
    }
   ],
   "source": [
    "bbp_sodium_opt_path = './objectives/multi_stim_without_sensitivity_bbp_sodium_1_0_20_stims.hdf5'\n",
    "bbp_sodium_score_path = './scores/scores_bbp_sodium/'\n",
    "bbp_sodium_plot_path = './plots_prev_bounds/scores_bbp_sodium'\n",
    "ph.plot_comb_scores(bbp_sodium_opt_path, bbp_sodium_score_path, 'Peeling BBP Sodium', bbp_sodium_plot_path)\n",
    "print('Stims used to train:')\n",
    "train_stim_names_sodium = h5py.File(bbp_sodium_opt_path, 'r')['opt_stim_name_list'][:]\n",
    "for e in train_stim_names_sodium:\n",
    "    print(e.decode('ascii'))\n"
   ]
  },
  {
   "cell_type": "markdown",
   "metadata": {},
   "source": [
    "### Genetic algorithm result"
   ]
  },
  {
   "cell_type": "code",
   "execution_count": 51,
   "metadata": {},
   "outputs": [
    {
     "name": "stdout",
     "output_type": "stream",
     "text": [
      "['gNaTs2_tbar_NaTs2_t_apical', 'gSKv3_1bar_SKv3_1_apical', 'gIhbar_Ih_apical', 'gImbar_Im_apical', 'gNaTa_tbar_NaTa_t_axonal', 'gK_Tstbar_K_Tst_axonal', 'gNap_Et2bar_Nap_Et2_axonal', 'gK_Pstbar_K_Pst_axonal', 'gSKv3_1bar_SKv3_1_axonal', 'gSKv3_1bar_SKv3_1_somatic', 'gNaTs2_tbar_NaTs2_t_somatic', 'gIhbar_Ih_somatic', 'g_pas']\n"
     ]
    }
   ],
   "source": [
    "peeling_step = 'sodium'\n",
    "GA_result_path = './GA_results/prev_params_20_percent_bound/best_indv_bbp_'+peeling_step+'.pkl'\n",
    "params_path = './params/params_bbp_'+peeling_step+'.hdf5'\n",
    "base_sodium = h5py.File(params_path, 'r')['orig_'+peeling_step][0]\n",
    "peeling_ind_sodium_bbp = [1, 2, 3, 4, 5, 6, 8, 11, 12, 16, 19, 20, 23] # bbp Sodium, Potassium and Passive\n",
    "base = [base_sodium[i] for i in peeling_ind_sodium_bbp]\n",
    "lbs = [0.01*p for p in base]\n",
    "ubs = [100*p for p in base]\n",
    "params_bbp_sodium = [ph.params_bbp[i] for i in peeling_ind_sodium_bbp]\n",
    "print(params_bbp_sodium)"
   ]
  },
  {
   "cell_type": "code",
   "execution_count": 10,
   "metadata": {},
   "outputs": [
    {
     "name": "stdout",
     "output_type": "stream",
     "text": [
      "[<AxesSubplot:title={'left':'Somatic'}>, <AxesSubplot:title={'left':'Dendritic'}>, <AxesSubplot:title={'left':'Axonal'}>]\n"
     ]
    },
    {
     "data": {
      "image/png": "[encoded data removed]",
      "text/plain": [
       "<Figure size 340.157x198.425 with 3 Axes>"
      ]
     },
     "metadata": {
      "needs_background": "light"
     },
     "output_type": "display_data"
    }
   ],
   "source": [
    "normalized_indvs_sodium_bbp, best_indvs_sodium_bbp = ph.read_and_normalize_with_neg(GA_result_path, base, lbs, ubs)\n",
    "file_path_to_save = './plots_prev_bounds/GA_bbp_sodium'\n",
    "axs = ph.final_indv_plot_by_section(params_bbp_sodium, normalized_indvs_sodium_bbp[-1], 'For Sodium Parameters', file_path_to_save, 0.5, 12,dend_inds = [0,1,2,3],axon_inds = [4,5,6,7,8], soma_inds = [9,10,11,12],xlim=[0,0.1])\n",
    "for i in range(len(base)):\n",
    "    ph.normalized_indvs_bbp_overall[peeling_ind_sodium_bbp[i]] = normalized_indvs_sodium_bbp[-1][i]\n",
    "    ph.best_indvs_bbp_overall[peeling_ind_sodium_bbp[i]] = best_indvs_sodium_bbp[-1][i]\n",
    "print(axs)    \n",
    "axs[2].set_xlim([0,0.5])\n",
    "plt.show()"
   ]
  },
  {
   "cell_type": "markdown",
   "metadata": {},
   "source": [
    "### Train stim response"
   ]
  },
  {
   "cell_type": "code",
   "execution_count": 16,
   "metadata": {},
   "outputs": [],
   "source": [
    "best_sodium = list(base_sodium)\n",
    "for i in range(len(peeling_ind_sodium_bbp)):\n",
    "    best_sodium[peeling_ind_sodium_bbp[i]] = best_indvs_sodium_bbp[-1][i]"
   ]
  },
  {
   "cell_type": "code",
   "execution_count": 13,
   "metadata": {},
   "outputs": [
    {
     "name": "stdout",
     "output_type": "stream",
     "text": [
      "8e-005\t0.026145\t0.004226\t8e-005\t0.000143\t\n",
      "3.13797\t0.089259\t0.00291\t0.006827\t0\t\n",
      "0\t0.973538\t1.02195\t287.199\t0\t\n",
      "0.000609\t0.303472\t0\t0\t0.983955\t\n",
      "8e-005\t210.485\t0\t3e-005\t\n",
      "finshed run matrix\n",
      "8e-005\t0.197105\t0.00988555\t9.23919e-005\t0.000144963\t\n",
      "13.3034\t3.97882\t0.00291\t0.000101272\t0\t\n",
      "0\t0.691625\t2.27328\t287.199\t0\t\n",
      "0.000609\t0.0755799\t0\t0\t0.728668\t\n",
      "3.05303e-005\t210.485\t0\t2.49293e-005\t\n",
      "finshed run matrix\n"
     ]
    },
    {
     "data": {
      "text/plain": [
       "(<Figure size 226.772x221.102 with 2 Axes>,\n",
       " array([<AxesSubplot:title={'center':'chirp_f_0.1_to_0_a_6_to_6 (Training)'}>,\n",
       "        <AxesSubplot:>], dtype=object))"
      ]
     },
     "execution_count": 13,
     "metadata": {},
     "output_type": "execute_result"
    },
    {
     "data": {
      "image/png": "[encoded data removed]",
      "text/plain": [
       "<Figure size 226.772x221.102 with 2 Axes>"
      ]
     },
     "metadata": {
      "needs_background": "light"
     },
     "output_type": "display_data"
    }
   ],
   "source": [
    "train_stim1_name_sodium = train_stim_names_sodium[0]\n",
    "train_stim1_sodium = stims[train_stim1_name_sodium][:]\n",
    "train_volts_sodium_target,times = ph.run_single_volts(base_sodium, train_stim1_sodium)\n",
    "train_volts_sodium_best_response,times = ph.run_single_volts(best_sodium, train_stim1_sodium)\n",
    "file_save_path = './plots_prev_bounds/train_bbp_sodium'\n",
    "ph.plot_stim_volts_pair(train_stim1_sodium, [train_volts_sodium_target, train_volts_sodium_best_response], train_stim1_name_sodium.decode('ascii')+' (Training)', 'for Sodium Parameters', file_save_path)\n"
   ]
  },
  {
   "cell_type": "markdown",
   "metadata": {},
   "source": [
    "### Test stim response"
   ]
  },
  {
   "cell_type": "code",
   "execution_count": 37,
   "metadata": {},
   "outputs": [
    {
     "name": "stdout",
     "output_type": "stream",
     "text": [
      "8e-005\t0.026145\t0.004226\t8e-005\t0.000143\t\n",
      "3.13797\t0.089259\t0.00291\t0.006827\t0\t\n",
      "0\t0.973538\t1.02195\t287.199\t0\t\n",
      "0.000609\t0.303472\t0\t0\t0.983955\t\n",
      "8e-005\t210.485\t0\t3e-005\t\n",
      "finshed run matrix\n",
      "8e-005\t0.197105\t0.00988555\t9.23919e-005\t0.000144963\t\n",
      "13.3034\t3.97882\t0.00291\t0.000101272\t0\t\n",
      "0\t0.691625\t2.27328\t287.199\t0\t\n",
      "0.000609\t0.0755799\t0\t0\t0.728668\t\n",
      "3.05303e-005\t210.485\t0\t2.49293e-005\t\n",
      "finshed run matrix\n",
      "8e-005\t0.026145\t0.004226\t8e-005\t0.000143\t\n",
      "3.13797\t0.089259\t0.00291\t0.006827\t0\t\n",
      "0\t0.973538\t1.02195\t287.199\t0\t\n",
      "0.000609\t0.303472\t0\t0\t0.983955\t\n",
      "8e-005\t210.485\t0\t3e-005\t\n",
      "finshed run matrix\n",
      "8e-005\t0.197105\t0.00988555\t9.23919e-005\t0.000144963\t\n",
      "13.3034\t3.97882\t0.00291\t0.000101272\t0\t\n",
      "0\t0.691625\t2.27328\t287.199\t0\t\n",
      "0.000609\t0.0755799\t0\t0\t0.728668\t\n",
      "3.05303e-005\t210.485\t0\t2.49293e-005\t\n",
      "finshed run matrix\n"
     ]
    },
    {
     "data": {
      "text/plain": [
       "(<Figure size 226.772x221.102 with 2 Axes>,\n",
       " array([<AxesSubplot:title={'center':'chirp_f_0.12_to_0_a_3_to_3 (Testing)'}>,\n",
       "        <AxesSubplot:>], dtype=object))"
      ]
     },
     "execution_count": 37,
     "metadata": {},
     "output_type": "execute_result"
    },
    {
     "data": {
      "image/png": "[encoded data removed]",
      "text/plain": [
       "<Figure size 226.772x221.102 with 2 Axes>"
      ]
     },
     "metadata": {
      "needs_background": "light"
     },
     "output_type": "display_data"
    },
    {
     "data": {
      "image/png": "[encoded data removed]",
      "text/plain": [
       "<Figure size 226.772x221.102 with 2 Axes>"
      ]
     },
     "metadata": {
      "needs_background": "light"
     },
     "output_type": "display_data"
    }
   ],
   "source": [
    "test_volts_sodium_target1,times = ph.run_single_volts(base_sodium, test_stim1)\n",
    "test_volts_sodium_best_response1,times = ph.run_single_volts(best_sodium, test_stim1)\n",
    "file_save_path = './plots_prev_bounds/test_bbp_sodium_stim1'\n",
    "ph.plot_stim_volts_pair(test_stim1, [test_volts_sodium_target1, test_volts_sodium_best_response1], test_stim1_name+' (Testing)', 'for Sodium Parameters', file_save_path)\n",
    "\n",
    "test_volts_sodium_target2,times = ph.run_single_volts(base_sodium, test_stim2)\n",
    "test_volts_sodium_best_response2,times = ph.run_single_volts(best_sodium, test_stim2)\n",
    "file_save_path = './plots_prev_bounds/test_bbp_sodium_stim2'\n",
    "ph.plot_stim_volts_pair(test_stim2, [test_volts_sodium_target2, test_volts_sodium_best_response2], test_stim2_name+' (Testing)', 'for Sodium Parameters', file_save_path)\n"
   ]
  },
  {
   "cell_type": "markdown",
   "metadata": {},
   "source": [
    "## Calcium"
   ]
  },
  {
   "cell_type": "markdown",
   "metadata": {},
   "source": [
    "### Score function"
   ]
  },
  {
   "cell_type": "code",
   "execution_count": 17,
   "metadata": {},
   "outputs": [
    {
     "name": "stdout",
     "output_type": "stream",
     "text": [
      "<KeysViewHDF5 ['opt_stim_name_list', 'opt_weight_list', 'ordered_score_function_list']>\n",
      "Stims used to train:\n",
      "chirp_f_0.1_to_0_a_3_to_9\n",
      "negramp_0.49\n",
      "negramp_0.51\n",
      "negramp_0.52\n",
      "negramp_0.43\n",
      "ramp_0.54\n",
      "chirp_f_0.24_to_0_a_3_to_3\n",
      "ramp_0.52\n",
      "sin_f_0.6_a_3_m_0\n",
      "he_1_6_12\n",
      "ramp_0.49\n",
      "ramp_0.55\n",
      "chirp_f_0_to_0.18_a_3_to_3\n",
      "he_3_19_15\n",
      "chirp_f_0_to_0.12_a_3_to_6\n",
      "chirp_f_0.14_to_0_a_3_to_9\n",
      "chirp_f_0.24_to_0_a_3_to_6\n",
      "negramp_0.41\n",
      "chirp_f_0_to_0.18_a_3_to_6\n",
      "chirp_f_0.24_to_0_a_3_to_9\n"
     ]
    },
    {
     "data": {
      "image/png": "[encoded data removed]",
      "text/plain": [
       "<Figure size 240.945x141.732 with 1 Axes>"
      ]
     },
     "metadata": {
      "needs_background": "light"
     },
     "output_type": "display_data"
    }
   ],
   "source": [
    "bbp_calcium_opt_path = './objectives/multi_stim_without_sensitivity_bbp_calcium_1_0_20_stims.hdf5'\n",
    "bbp_calcium_score_path = './scores/scores_bbp_calcium/'\n",
    "bbp_calcium_plot_path = './plots_prev_bounds/scores_bbp_calcium'\n",
    "ph.plot_comb_scores(bbp_calcium_opt_path, bbp_calcium_score_path, 'Peeling BBP Calcium', bbp_calcium_plot_path)\n",
    "print('Stims used to train:')\n",
    "train_stim_names_calcium = h5py.File(bbp_calcium_opt_path, 'r')['opt_stim_name_list'][:]\n",
    "for e in train_stim_names_calcium:\n",
    "    print(e.decode('ascii'))\n"
   ]
  },
  {
   "cell_type": "markdown",
   "metadata": {},
   "source": [
    "### Genetic algorithm result"
   ]
  },
  {
   "cell_type": "code",
   "execution_count": 20,
   "metadata": {},
   "outputs": [
    {
     "name": "stdout",
     "output_type": "stream",
     "text": [
      "['gNaTs2_tbar_NaTs2_t_apical', 'gSKv3_1bar_SKv3_1_apical', 'gIhbar_Ih_apical', 'gImbar_Im_apical', 'gNaTa_tbar_NaTa_t_axonal', 'gK_Tstbar_K_Tst_axonal', 'gNap_Et2bar_Nap_Et2_axonal', 'gSK_E2bar_SK_E2_axonal', 'gCa_HVAbar_Ca_HVA_axonal', 'gK_Pstbar_K_Pst_axonal', 'gSKv3_1bar_SKv3_1_axonal', 'gCa_LVAstbar_Ca_LVAst_axonal', 'gSKv3_1bar_SKv3_1_somatic', 'gSK_E2bar_SK_E2_somatic', 'gCa_HVAbar_Ca_HVA_somatic', 'gNaTs2_tbar_NaTs2_t_somatic', 'gIhbar_Ih_somatic', 'gCa_LVAstbar_Ca_LVAst_somatic', 'g_pas']\n"
     ]
    }
   ],
   "source": [
    "peeling_step = 'calcium'\n",
    "GA_result_path = './GA_results/prev_params_20_percent_bound/best_indv_bbp_'+peeling_step+'_bad.pkl'\n",
    "params_path = './params/params_bbp_'+peeling_step+'.hdf5'\n",
    "base_calcium = h5py.File(params_path, 'r')['orig_'+peeling_step][0]\n",
    "peeling_ind_calcium_bbp = [1, 2, 3, 4, 5, 6, 8, 9, 10, 11, 12, 14, 16, 17, 18, 19, 20, 22, 23] # bbp Calcium \n",
    "#[1, 2, 3, 4, 5, 6, 8, 9, 10, 11, 12, 14, 16, 17, 18, 19, 20, 22, 23] # bbp Calcium \n",
    "# [9, 10, 14, 17, 18, 22]\n",
    "# [1, 2, 3, 4, 5, 6, 8, 9, 10, 11, 12, 14, 16, 17, 18, 19, 20, 22, 23] # bbp Calcium \n",
    "# [9, 10, 14, 17, 18, 22]\n",
    "base = [base_calcium[i] for i in peeling_ind_calcium_bbp]\n",
    "lbs = [0.01*p for p in base]\n",
    "ubs = [100*p for p in base]\n",
    "params_bbp_calcium = [ph.params_bbp[i] for i in peeling_ind_calcium_bbp]\n",
    "normalized_indvs_calcium_bbp, best_indvs_calcium_bbp = ph.read_and_normalize_with_neg(GA_result_path, base, lbs, ubs)\n",
    "file_path_to_save = './plots_prev_bounds/GA_bbp_calcium'\n",
    "print(params_bbp_calcium)\n"
   ]
  },
  {
   "cell_type": "code",
   "execution_count": 32,
   "metadata": {},
   "outputs": [
    {
     "data": {
      "image/png": "[encoded data removed]",
      "text/plain": [
       "<Figure size 340.157x198.425 with 3 Axes>"
      ]
     },
     "metadata": {
      "needs_background": "light"
     },
     "output_type": "display_data"
    }
   ],
   "source": [
    "ph.final_indv_plot_by_section(params_bbp_calcium, normalized_indvs_calcium_bbp[-1], 'For Calcium Parameters', file_path_to_save, 1, 18,dend_inds = [0,1,2,3],axon_inds = [4,5,6,7,8,9,10,11], soma_inds = [12,13,14,15,16,17,18],xlim=[0,0.2])\n",
    "for i in range(len(base)):\n",
    "    ph.normalized_indvs_bbp_overall[peeling_ind_calcium_bbp[i]] = normalized_indvs_calcium_bbp[-1][i]\n",
    "    ph.best_indvs_bbp_overall[peeling_ind_calcium_bbp[i]] = best_indvs_calcium_bbp[-1][i]\n",
    "  "
   ]
  },
  {
   "cell_type": "markdown",
   "metadata": {},
   "source": [
    "### Train stim response"
   ]
  },
  {
   "cell_type": "code",
   "execution_count": 33,
   "metadata": {},
   "outputs": [
    {
     "name": "stdout",
     "output_type": "stream",
     "text": [
      "0.043354324280927094\n"
     ]
    }
   ],
   "source": [
    "# [9, 10, 14, 17, 18, 22]\n",
    "best_calcium = list(best_sodium)\n",
    "#best_calcium = list(best_sodium)\n",
    "for i in range(len(peeling_ind_calcium_bbp)):\n",
    "    best_calcium[peeling_ind_calcium_bbp[i]] = best_indvs_calcium_bbp[-1][i]\n",
    "print(best_calcium[9])\n",
    "#best_calcium[9] = 7.10400000e-03# base_calcium[9]"
   ]
  },
  {
   "cell_type": "code",
   "execution_count": 34,
   "metadata": {},
   "outputs": [
    {
     "name": "stdout",
     "output_type": "stream",
     "text": [
      "8e-005\t0.026145\t0.004226\t8e-005\t0.000143\t\n",
      "3.13797\t0.089259\t0.00291\t0.006827\t0.007104\t\n",
      "0.00099\t0.973538\t1.02195\t287.199\t0.008752\t\n",
      "0.000609\t0.303472\t0.008407\t0.000994\t0.983955\t\n",
      "8e-005\t210.485\t0.000333\t3e-005\t\n",
      "finshed run matrix\n",
      "8e-005\t0.22763\t0.00999366\t7.50317e-005\t0.00013759\t\n",
      "10.9262\t3.78388\t0.00291\t0.000105188\t0.0433543\t\n",
      "0.0952781\t0.709025\t2.43741\t287.199\t0.076348\t\n",
      "0.000609\t0.0828394\t0.00536646\t0.000190935\t0.587413\t\n",
      "2.4579e-005\t210.485\t0.00574226\t2.79981e-005\t\n",
      "finshed run matrix\n"
     ]
    },
    {
     "data": {
      "text/plain": [
       "(<Figure size 226.772x221.102 with 2 Axes>,\n",
       " array([<AxesSubplot:title={'center':'chirp_f_0.1_to_0_a_3_to_9 (Training)'}>,\n",
       "        <AxesSubplot:>], dtype=object))"
      ]
     },
     "execution_count": 34,
     "metadata": {},
     "output_type": "execute_result"
    },
    {
     "data": {
      "image/png": "[encoded data removed]",
      "text/plain": [
       "<Figure size 226.772x221.102 with 2 Axes>"
      ]
     },
     "metadata": {
      "needs_background": "light"
     },
     "output_type": "display_data"
    }
   ],
   "source": [
    "train_stim1_name_calcium = train_stim_names_calcium[0]\n",
    "train_stim1_calcium = stims[train_stim1_name_calcium][:]\n",
    "train_volts_calcium_target,times = ph.run_single_volts(base_calcium, train_stim1_calcium)\n",
    "train_volts_calcium_best_response,times = ph.run_single_volts(best_calcium, train_stim1_calcium)\n",
    "file_save_path = './plots_prev_bounds/train_bbp_calcium'\n",
    "ph.plot_stim_volts_pair(train_stim1_calcium, [train_volts_calcium_target, train_volts_calcium_best_response], train_stim1_name_calcium.decode('ascii')+' (Training)', 'for Calcium Parameters', file_save_path)\n"
   ]
  },
  {
   "cell_type": "code",
   "execution_count": 36,
   "metadata": {},
   "outputs": [
    {
     "name": "stdout",
     "output_type": "stream",
     "text": [
      "8e-005\t0.026145\t0.004226\t8e-005\t0.000143\t\n",
      "3.13797\t0.089259\t0.00291\t0.006827\t0.007104\t\n",
      "0.00099\t0.973538\t1.02195\t287.199\t0.008752\t\n",
      "0.000609\t0.303472\t0.008407\t0.000994\t0.983955\t\n",
      "8e-005\t210.485\t0.000333\t3e-005\t\n",
      "finshed run matrix\n",
      "8e-005\t0.22763\t0.00999366\t7.50317e-005\t0.00013759\t\n",
      "10.9262\t3.78388\t0.00291\t0.000105188\t0.0433543\t\n",
      "0.0952781\t0.709025\t2.43741\t287.199\t0.076348\t\n",
      "0.000609\t0.0828394\t0.00536646\t0.000190935\t0.587413\t\n",
      "2.4579e-005\t210.485\t0.00574226\t2.79981e-005\t\n",
      "finshed run matrix\n",
      "8e-005\t0.026145\t0.004226\t8e-005\t0.000143\t\n",
      "3.13797\t0.089259\t0.00291\t0.006827\t0.007104\t\n",
      "0.00099\t0.973538\t1.02195\t287.199\t0.008752\t\n",
      "0.000609\t0.303472\t0.008407\t0.000994\t0.983955\t\n",
      "8e-005\t210.485\t0.000333\t3e-005\t\n",
      "finshed run matrix\n",
      "8e-005\t0.22763\t0.00999366\t7.50317e-005\t0.00013759\t\n",
      "10.9262\t3.78388\t0.00291\t0.000105188\t0.0433543\t\n",
      "0.0952781\t0.709025\t2.43741\t287.199\t0.076348\t\n",
      "0.000609\t0.0828394\t0.00536646\t0.000190935\t0.587413\t\n",
      "2.4579e-005\t210.485\t0.00574226\t2.79981e-005\t\n",
      "finshed run matrix\n"
     ]
    },
    {
     "data": {
      "text/plain": [
       "(<Figure size 226.772x221.102 with 2 Axes>,\n",
       " array([<AxesSubplot:title={'center':'chirp_f_0.12_to_0_a_3_to_3 (Testing)'}>,\n",
       "        <AxesSubplot:>], dtype=object))"
      ]
     },
     "execution_count": 36,
     "metadata": {},
     "output_type": "execute_result"
    },
    {
     "data": {
      "image/png": "[encoded data removed]",
      "text/plain": [
       "<Figure size 226.772x221.102 with 2 Axes>"
      ]
     },
     "metadata": {
      "needs_background": "light"
     },
     "output_type": "display_data"
    },
    {
     "data": {
      "image/png": "[encoded data removed]",
      "text/plain": [
       "<Figure size 226.772x221.102 with 2 Axes>"
      ]
     },
     "metadata": {
      "needs_background": "light"
     },
     "output_type": "display_data"
    }
   ],
   "source": [
    "test_volts_calcium_target1,times = ph.run_single_volts(base_calcium, test_stim1)\n",
    "test_volts_calcium_best_response1,times = ph.run_single_volts(best_calcium, test_stim1)\n",
    "file_save_path = './plots_prev_bounds/test_bbp_calcium_stim1'\n",
    "ph.plot_stim_volts_pair(test_stim1, [test_volts_calcium_target1, test_volts_calcium_best_response1], test_stim1_name+' (Testing)', 'for Calcium Parameters', file_save_path)\n",
    "\n",
    "test_volts_calcium_target2,times = ph.run_single_volts(base_calcium, test_stim2)\n",
    "test_volts_calcium_best_response2,times = ph.run_single_volts(best_calcium, test_stim2)\n",
    "file_save_path = './plots_prev_bounds/test_bbp_calcium_stim2'\n",
    "ph.plot_stim_volts_pair(test_stim2, [test_volts_calcium_target2, test_volts_calcium_best_response2], test_stim2_name+' (Testing)', 'for Calcium Parameters', file_save_path)\n"
   ]
  },
  {
   "cell_type": "code",
   "execution_count": null,
   "metadata": {},
   "outputs": [],
   "source": [
    "peeling_step = 'full'\n",
    "GA_result_path = './GA_results/prev_params_20_percent_bound/best_indv_bbp_'+peeling_step+'_tune.pkl'\n",
    "params_path = './params/params_bbp_'+peeling_step+'.hdf5'\n",
    "base_full = h5py.File(params_path, 'r')['orig_'+peeling_step][0]\n",
    "peeling_ind_full_bbp = [1, 2, 3, 4, 5, 6, 8, 9, 10, 11, 12, 14, 16, 17, 18, 19, 20, 22, 23] # bbp Full\n",
    "base = [base_full[i] for i in peeling_ind_full_bbp]\n",
    "lbs = [0.01*p for p in base]\n",
    "ubs = [100*p for p in base]\n",
    "params_bbp_full = [params_bbp[i] for i in peeling_ind_full_bbp]\n",
    "normalized_indvs_full_bbp, best_indvs_full_bbp = read_and_normalize_with_neg(GA_result_path, base, lbs, ubs)\n",
    "file_path_to_save = './plots_prev_bounds/GA_bbp_full'\n",
    "final_indv_plot(params_bbp_full, normalized_indvs_full_bbp[-1], 'For Full Parameters', file_path_to_save, 1, 18)\n",
    "for i in range(len(base)):\n",
    "    normalized_indvs_bbp_overall[peeling_ind_full_bbp[i]] = normalized_indvs_full_bbp[-1][i]\n",
    "    best_indvs_bbp_overall[peeling_ind_full_bbp[i]] = best_indvs_full_bbp[-1][i]\n",
    "    "
   ]
  },
  {
   "cell_type": "code",
   "execution_count": null,
   "metadata": {},
   "outputs": [],
   "source": [
    "print(base_full)"
   ]
  },
  {
   "cell_type": "code",
   "execution_count": null,
   "metadata": {},
   "outputs": [],
   "source": [
    "best_full = list(base_full)\n",
    "for i in range(len(peeling_ind_full_bbp)):\n",
    "    best_full[peeling_ind_full_bbp[i]] = best_indvs_full_bbp[-1][i]\n",
    "print(np.array(best_full))"
   ]
  },
  {
   "cell_type": "code",
   "execution_count": null,
   "metadata": {},
   "outputs": [],
   "source": [
    "train_stim1_name_full = train_stim_names_full[0]\n",
    "train_stim1_full = stims[train_stim1_name_full][:]\n",
    "train_volts_full_target = run_single_volts(base_full, train_stim1_full)\n",
    "train_volts_full_best_response = run_single_volts(best_full, train_stim1_full)\n",
    "file_save_path = './plots_prev_bounds/train_bbp_full'\n",
    "plot_stim_volts_pair(train_stim1_full, [train_volts_full_target, train_volts_full_best_response], train_stim1_name_full.decode('ascii')+' (Training)', 'for Full Parameters', file_save_path)\n",
    "\n"
   ]
  },
  {
   "cell_type": "code",
   "execution_count": null,
   "metadata": {},
   "outputs": [],
   "source": [
    "test_volts_full_target1 = run_single_volts(base_full, test_stim1)\n",
    "test_volts_full_best_response1 = run_single_volts(best_full, test_stim1)\n",
    "file_save_path = './plots_prev_bounds/test_bbp_full_stim1'\n",
    "plot_stim_volts_pair(test_stim1, [test_volts_full_target1, test_volts_full_best_response1], test_stim1_name+' (Testing)', 'for Full Parameters', file_save_path)\n",
    "\n",
    "test_volts_full_target2 = run_single_volts(base_full, test_stim2)\n",
    "test_volts_full_best_response2 = run_single_volts(best_full, test_stim2)\n",
    "file_save_path = './plots_prev_bounds/test_bbp_full_stim2'\n",
    "plot_stim_volts_pair(test_stim2, [test_volts_full_target2, test_volts_full_best_response2], test_stim2_name+' (Testing)', 'for Full Parameters', file_save_path)\n",
    "\n",
    "\n"
   ]
  },
  {
   "cell_type": "code",
   "execution_count": null,
   "metadata": {},
   "outputs": [],
   "source": [
    "base_calcium = np.array(base_calcium)\n",
    "best_calcium = np.array(best_calcium)\n",
    "diff = np.abs(base_calcium - best_calcium)\n",
    "print(diff/base_calcium)"
   ]
  },
  {
   "cell_type": "code",
   "execution_count": null,
   "metadata": {},
   "outputs": [],
   "source": [
    "print(base_calcium)"
   ]
  },
  {
   "cell_type": "code",
   "execution_count": null,
   "metadata": {},
   "outputs": [],
   "source": [
    "print(best_calcium)"
   ]
  },
  {
   "cell_type": "code",
   "execution_count": null,
   "metadata": {},
   "outputs": [],
   "source": [
    "for i in range(24):\n",
    "    if i in peeling_ind_calcium_bbp:\n",
    "        print(str('{0:.10f}'.format(best_calcium[i]))+','+str('{0:.10f}'.format(best_calcium[i]*0.1))+','+str('{0:.10f}'.format(best_calcium[i]*10)))\n",
    "    else:\n",
    "        print(str('{0:.10f}'.format(best_calcium[i]))+','+str('{0:.10f}'.format(best_calcium[i]))+','+str('{0:.10f}'.format(best_calcium[i])))\n",
    "        "
   ]
  },
  {
   "cell_type": "code",
   "execution_count": null,
   "metadata": {},
   "outputs": [],
   "source": []
  },
  {
   "cell_type": "markdown",
   "metadata": {},
   "source": [
    "## Full Parameters Analysis"
   ]
  },
  {
   "cell_type": "markdown",
   "metadata": {},
   "source": [
    "### Score function"
   ]
  },
  {
   "cell_type": "code",
   "execution_count": null,
   "metadata": {},
   "outputs": [],
   "source": [
    "bbp_full_opt_path = './objectives/multi_stim_bbp_full.hdf5'\n",
    "bbp_full_score_path = './scores/scores_bbp_full/'\n",
    "bbp_full_plot_path = './plots_prev_bounds/scores_bbp_full'\n",
    "plot_comb_scores(bbp_full_opt_path, bbp_full_score_path, 'BBP Full', bbp_full_plot_path)\n",
    "print('Stims used to train:')\n",
    "train_stim_names_full = h5py.File(bbp_full_opt_path, 'r')['opt_stim_name_list'][:]\n",
    "for e in train_stim_names_full:\n",
    "    print(e.decode('ascii'))\n"
   ]
  },
  {
   "cell_type": "markdown",
   "metadata": {},
   "source": [
    "### Genetic algorithm result"
   ]
  },
  {
   "cell_type": "code",
   "execution_count": null,
   "metadata": {},
   "outputs": [],
   "source": [
    "peeling_step = 'full'\n",
    "GA_result_path = './GA_results/best_indv_bbp_'+peeling_step+'.pkl'\n",
    "params_path = './params/params_bbp_'+peeling_step+'.hdf5'\n",
    "base_full = h5py.File(params_path, 'r')['orig_'+peeling_step][0]\n",
    "peeling_ind_full_bbp = [1, 2, 3, 4, 5, 6, 8, 9, 10, 11, 12, 14, 16, 17, 18, 19, 20, 22, 23] # bbp Full\n",
    "base = [base_full[i] for i in peeling_ind_full_bbp]\n",
    "lbs = [0.01*p for p in base]\n",
    "ubs = [100*p for p in base]\n",
    "params_bbp_full = [params_bbp[i] for i in peeling_ind_full_bbp]\n",
    "normalized_indvs_full_bbp, best_indvs_full_bbp = read_and_normalize_with_neg(GA_result_path, base, lbs, ubs)\n",
    "file_path_to_save = './plots_prev_bounds/GA_bbp_full'\n",
    "final_indv_plot(params_bbp_full, normalized_indvs_full_bbp[-1], 'For Full Parameters', file_path_to_save, 1, 18)\n",
    "for i in range(len(base)):\n",
    "    normalized_indvs_bbp_overall[peeling_ind_full_bbp[i]] = normalized_indvs_full_bbp[-1][i]\n",
    "    best_indvs_bbp_overall[peeling_ind_full_bbp[i]] = best_indvs_full_bbp[-1][i]\n",
    "    "
   ]
  },
  {
   "cell_type": "markdown",
   "metadata": {},
   "source": [
    "### Train stim response"
   ]
  },
  {
   "cell_type": "code",
   "execution_count": null,
   "metadata": {},
   "outputs": [],
   "source": [
    "best_full = list(base_full)\n",
    "for i in range(len(peeling_ind_full_bbp)):\n",
    "    best_full[peeling_ind_full_bbp[i]] = best_indvs_full_bbp[-1][i]"
   ]
  },
  {
   "cell_type": "code",
   "execution_count": null,
   "metadata": {},
   "outputs": [],
   "source": [
    "train_stim1_name_full = train_stim_names_full[0]\n",
    "train_stim1_full = stims[train_stim1_name_full][:]\n",
    "train_volts_full_target = run_single_volts(base_full, train_stim1_full)\n",
    "train_volts_full_best_response = run_single_volts(best_full, train_stim1_full)\n",
    "file_save_path = './plots_prev_bounds/train_bbp_full'\n",
    "plot_stim_volts_pair(train_stim1_full, [train_volts_full_target, train_volts_full_best_response], train_stim1_name_full.decode('ascii')+' (Training)', 'for Full Parameters', file_save_path)\n"
   ]
  },
  {
   "cell_type": "markdown",
   "metadata": {},
   "source": [
    "### Test stim response"
   ]
  },
  {
   "cell_type": "code",
   "execution_count": null,
   "metadata": {},
   "outputs": [],
   "source": [
    "test_volts_full_target1 = run_single_volts(base_full, test_stim1)\n",
    "test_volts_full_best_response1 = run_single_volts(best_full, test_stim1)\n",
    "file_save_path = './plots_prev_bounds/test_bbp_full_stim1'\n",
    "plot_stim_volts_pair(test_stim1, [test_volts_full_target1, test_volts_full_best_response1], test_stim1_name+' (Testing)', 'for Full Parameters', file_save_path)\n",
    "\n",
    "test_volts_full_target2 = run_single_volts(base_full, test_stim2)\n",
    "test_volts_full_best_response2 = run_single_volts(best_full, test_stim2)\n",
    "file_save_path = './plots_prev_bounds/test_bbp_full_stim2'\n",
    "plot_stim_volts_pair(test_stim2, [test_volts_full_target2, test_volts_full_best_response2], test_stim2_name+' (Testing)', 'for Full Parameters', file_save_path)\n",
    "\n"
   ]
  },
  {
   "cell_type": "code",
   "execution_count": null,
   "metadata": {},
   "outputs": [],
   "source": [
    "plt.rcParams['axes.spines.right'] = False\n",
    "plt.rcParams['axes.spines.top'] = False\n",
    "plt.rcParams['font.sans-serif'] = \"Arial\"\n",
    "plt.rcParams['font.family'] = \"sans-serif\"\n",
    "plt.rcParams['pdf.fonttype'] = 42\n",
    "plt.rcParams['ps.fonttype'] = 42\n",
    "\n",
    "tick_major = 6\n",
    "tick_minor = 4\n",
    "plt.rcParams[\"xtick.major.size\"] = tick_major\n",
    "plt.rcParams[\"xtick.minor.size\"] = tick_minor\n",
    "plt.rcParams[\"ytick.major.size\"] = tick_major\n",
    "plt.rcParams[\"ytick.minor.size\"] = tick_minor\n",
    "\n",
    "font_small = 12\n",
    "font_medium = 13\n",
    "font_large = 14\n",
    "plt.rc('font', size=font_small)          # controls default text sizes\n",
    "plt.rc('axes', titlesize=font_medium)    # fontsize of the axes title\n",
    "plt.rc('axes', labelsize=font_medium)    # fontsize of the x and y labels\n",
    "plt.rc('xtick', labelsize=font_small)    # fontsize of the tick labels\n",
    "plt.rc('ytick', labelsize=font_small)    # fontsize of the tick labels\n",
    "plt.rc('legend', fontsize=font_small)    # legend fontsize\n",
    "plt.rc('figure', titlesize=font_large)   # fontsize of the figure title\n",
    "\n",
    "# Plot for GA result\n",
    "def final_indv_plot(param_names, final_best_indv, title, file_path_to_save=None, max_xtic=1, vert_size=10):\n",
    "    plt.figure(figsize=(cm_to_in(8.5), cm_to_in(vert_size)))\n",
    "    ax = plt.gca()\n",
    "    y_pos = np.arange(len(param_names))\n",
    "    ax.barh(y_pos, final_best_indv, height=0.5, align='center', linestyle='-', color='black')\n",
    "    ax.set_yticks(y_pos)\n",
    "    ax.set_yticklabels(param_names)\n",
    "    ax.invert_yaxis()  # labels read top-to-bottom\n",
    "    plt.axvline(x=0, color='black', linewidth=0.4 ,linestyle='--')\n",
    "    ax.set_xlim(0, max_xtic)\n",
    "    ax.set_xticks([0, max_xtic])\n",
    "    ax.set_ylabel('Parameters')\n",
    "    ax.set_xlabel('Normalized Distance')\n",
    "    ax.set_title('Deviation From Truth Value ' + title)\n",
    "    if file_path_to_save:\n",
    "        plt.savefig(file_path_to_save+'.pdf', format='pdf', dpi=1000, bbox_inches=\"tight\")\n",
    "\n",
    "# Code for optimization results analysis\n",
    "def read_and_normalize_with_neg(opt_result_path, base, lower_bounds, upper_bounds):\n",
    "    with open(opt_result_path, 'rb') as f:\n",
    "        best_indvs = pickle.load(f, encoding = \"latin1\")\n",
    "    normalized_indvs = []\n",
    "    for i in range(len(best_indvs)):\n",
    "        normalized = []\n",
    "        for j in range(len(best_indvs[i])):\n",
    "            if (best_indvs[i][j] < base[j]):\n",
    "                new_value = abs((best_indvs[i][j] - base[j])/(ubs[j] - base[j]))\n",
    "                normalized.append(new_value)\n",
    "            else:\n",
    "                new_value = abs((best_indvs[i][j] - base[j])/(ubs[j] - base[j]))\n",
    "                normalized.append(new_value)\n",
    "        normalized_indvs.append(normalized)\n",
    "    return normalized_indvs, best_indvs\n",
    "\n",
    "def plot_stim_volts_pair(stim, volts, title_stim, title_volts, file_path_to_save=None):\n",
    "    plt.figure(figsize=(cm_to_in(8.5+6), cm_to_in(12)))\n",
    "    plt.subplot(2, 1, 1)\n",
    "    plt.title(title_stim)\n",
    "    plt.xlabel('Time (ms)')\n",
    "    plt.ylabel('Amplitude (nA)')\n",
    "    plt.plot(stim, color='black', linewidth=0.7)\n",
    "    plt.subplot(2, 1, 2)\n",
    "    plt.title('Voltage Response '+title_volts)\n",
    "    plt.xlabel('Time (ms)')\n",
    "    plt.ylabel('Amplitude (mV)')\n",
    "    plt.plot(volts[0], label='target', color='black')\n",
    "    plt.plot(volts[1], label='best individual', color='crimson')\n",
    "    plt.legend(bbox_to_anchor=(1.04,1), loc=\"upper left\")\n",
    "    plt.tight_layout(pad=1)\n",
    "    if file_path_to_save:\n",
    "        plt.savefig(file_path_to_save+'.pdf', format='pdf', dpi=1000, bbox_inches=\"tight\")\n",
    "\n",
    "def cm_to_in(cm):\n",
    "    return cm/2.54\n",
    "\n",
    "# Running a single volt\n",
    "def run_single_volts(param_set, stim_data, ntimestep = 10000, dt = 0.02):\n",
    "    run_file = './run_model_cori.hoc'\n",
    "    h.load_file(run_file)\n",
    "    total_params_num = len(param_set)\n",
    "    timestamps = np.array([dt for i in range(ntimestep)])\n",
    "    h.curr_stim = h.Vector().from_python(stim_data)\n",
    "    h.transvec = h.Vector(total_params_num, 1).from_python(param_set)\n",
    "    h.stimtime = h.Matrix(1, len(timestamps)).from_vector(h.Vector().from_python(timestamps))\n",
    "    h.ntimestep = ntimestep\n",
    "    h.runStim()\n",
    "    out = h.vecOut.to_python()\n",
    "    return np.array(out)\n",
    "\n",
    "def plot_comb_scores(opt_path, score_path, title, plot_save_path=None):\n",
    "    opt_result = h5py.File(opt_path)\n",
    "    ordered_score_function_list = [e.decode('ascii') for e in opt_result['ordered_score_function_list'][:]]\n",
    "    optimization_stim_names = [e.decode('ascii') for e in opt_result['opt_stim_name_list'][:]]\n",
    "    optimization_weightes = opt_result['opt_weight_list'][:]\n",
    "    best_stims_score_list = []\n",
    "    for score_name in optimization_stim_names:\n",
    "        curr_score_data = h5py.File(score_path+score_name+'_scores.hdf5', 'r')\n",
    "        for sf in ordered_score_function_list:\n",
    "            curr_stim_sf_pair = curr_score_data['norm_pin_scores_'+sf][:]\n",
    "            best_stims_score_list.append(curr_stim_sf_pair)\n",
    "    combined_score = sum([best_stims_score_list[i]*optimization_weightes[i] for i in range(len(optimization_weightes))])\n",
    "    plt.figure(figsize=(cm_to_in(8.5), cm_to_in(5)))\n",
    "    plt.title(title)\n",
    "    plt.xlabel('Parameter Set Rank')\n",
    "    plt.ylabel('Weighted Score')\n",
    "    time_step = range(len(combined_score))\n",
    "    plt.scatter(time_step, combined_score, s=1, color='black')\n",
    "    if plot_save_path:\n",
    "        plt.savefig(plot_save_path+'.pdf', format='pdf', dpi=1000, bbox_inches=\"tight\")\n"
   ]
  }
 ],
 "metadata": {
  "kernelspec": {
   "display_name": "dot_env",
   "language": "python",
   "name": "dot_env"
  },
  "language_info": {
   "codemirror_mode": {
    "name": "ipython",
    "version": 3
   },
   "file_extension": ".py",
   "mimetype": "text/x-python",
   "name": "python",
   "nbconvert_exporter": "python",
   "pygments_lexer": "ipython3",
   "version": "3.8.6"
  }
 },
 "nbformat": 4,
 "nbformat_minor": 4
}
